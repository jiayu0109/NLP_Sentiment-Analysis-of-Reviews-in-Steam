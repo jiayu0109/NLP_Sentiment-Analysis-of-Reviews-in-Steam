{
  "nbformat": 4,
  "nbformat_minor": 0,
  "metadata": {
    "colab": {
      "provenance": [],
      "collapsed_sections": []
    },
    "kernelspec": {
      "name": "python3",
      "display_name": "Python 3"
    },
    "language_info": {
      "name": "python"
    }
  },
  "cells": [
    {
      "cell_type": "markdown",
      "source": [
        "# Project - Analyzing Reviews in STEAM Community\n",
        "\n",
        "**Group 5**\n",
        "\n",
        "**Team members**:\n",
        "- Chenyang, Jia-Jia, Shuang, Xinbo\n",
        "\n",
        "**Credit listing:** \n",
        "- Chenyang Zheng: Created API accounts; Data collection from APIs, including review data and game stats data; Explore and define fake review patterns; Built fake review detection model.\n",
        "- Xinbo Lu: Created API accounts; Data collection from APIs, including review data and game stats data; Analyzed the relationship between gaming time and toxicity level of reviews.\n",
        "- Jia-Jia Yu: Problem & Research questions; Data processing (convert utc time to date time, clean the review); Measure toxicity levels of reviews; Explore and define fake review patterns; Built fake review detection model.\n",
        "- Shuang Zhao: Problem & Research questions; Data description; Measured toxicity level of reviews; Sentiment analysis on the reviews; Write the processed dataframes to csv files for future use; Analyzed the sentiment change over time.\n",
        "\n",
        "**Revisiting on Our Research Questions:**\n",
        "\n",
        "(1) Did user sentiment changed positively, negatively, or stayed relatively similar compared to pre-pandemic, and why?\n",
        "\n",
        "(2) What is the relationship between toxicity level of reviews and user gaming time?\n",
        "\n",
        "(3) What are typical linguistic patterns of fake reviews in the Steam Community?\n"
      ],
      "metadata": {
        "id": "1nAz3CESmwFp"
      }
    },
    {
      "cell_type": "markdown",
      "source": [
        "# Data Collection & Processing"
      ],
      "metadata": {
        "id": "tKZ5wSgowEYm"
      }
    },
    {
      "cell_type": "markdown",
      "source": [
        "- Steam API: get review (40,000 + reviews)\n",
        "\n",
        "- Perspective API: measure toxicity of reviews (10,000 reviews due to rate limit)"
      ],
      "metadata": {
        "id": "lEYqc3qqwZ_z"
      }
    },
    {
      "cell_type": "markdown",
      "source": [
        "# RQ1: Did user sentiment changed positively, negatively, or stayed relatively similar compared to pre-pandemic?"
      ],
      "metadata": {
        "id": "LYFCT6rVv5X6"
      }
    },
    {
      "cell_type": "code",
      "source": [
        "# Set up to load files from Google Drive\n",
        "from google.colab import drive\n",
        "drive.mount('/content/gdrive')"
      ],
      "metadata": {
        "colab": {
          "base_uri": "https://localhost:8080/"
        },
        "id": "jpySXlHEwRUa",
        "outputId": "0ae55d63-2be2-444a-adf7-78926144cb34"
      },
      "execution_count": null,
      "outputs": [
        {
          "output_type": "stream",
          "name": "stdout",
          "text": [
            "Mounted at /content/gdrive\n"
          ]
        }
      ]
    },
    {
      "cell_type": "code",
      "source": [
        "# Import packages\n",
        "import pandas as pd\n",
        "import numpy as np\n",
        "import requests\n",
        "import nltk, re, json, io\n",
        "from collections import Counter\n",
        "from collections import defaultdict\n",
        "import string\n",
        "from nltk.corpus import stopwords\n",
        "from nltk.tokenize import word_tokenize\n",
        "from datetime import datetime\n",
        "import sys\n",
        "import matplotlib.pyplot as plt\n",
        "import seaborn as sns\n",
        "from google.colab import files\n",
        "import matplotlib\n",
        "pd.options.mode.chained_assignment = None "
      ],
      "metadata": {
        "id": "B7oBv47_wRz-"
      },
      "execution_count": null,
      "outputs": []
    },
    {
      "cell_type": "code",
      "source": [
        "# Load data\n",
        "df_dota2 = pd.read_csv('/content/gdrive/MyDrive/IMT547/dota2_10k_toxcity_sentiment_fake.csv')\n",
        "df_dota2.head(2)"
      ],
      "metadata": {
        "colab": {
          "base_uri": "https://localhost:8080/",
          "height": 344
        },
        "id": "Nx-BqaspwUqX",
        "outputId": "9385450d-05f7-4e0f-e7c1-5b80c75b7db0"
      },
      "execution_count": null,
      "outputs": [
        {
          "output_type": "execute_result",
          "data": {
            "text/plain": [
              "   recommendationid                                             author  \\\n",
              "0          13844852  steamid 76561198108867118 num_games_owned 2 nu...   \n",
              "1           9587132  steamid 76561197998745774 num_games_owned 17 n...   \n",
              "\n",
              "  language                                             review  \\\n",
              "0  english                               THE BEST GAME EVER !   \n",
              "1  english  Ahhh.... Dota 2. This game is severaly unbalan...   \n",
              "\n",
              "   timestamp_created  timestamp_updated  voted_up  votes_up  votes_funny  \\\n",
              "0         1420449658         1420449658      True         5            0   \n",
              "1         1395437376         1609582255      True         5            2   \n",
              "\n",
              "   weighted_vote_score  ...  textblob_subjectivity  extreme_polarity  \\\n",
              "0             0.582656  ...                 0.3500             False   \n",
              "1             0.547834  ...                 0.3375             False   \n",
              "\n",
              "   fake_no_digits  fake_word_counts fake_ratio_fp_words fake_ratio_uppercases  \\\n",
              "0               0                 5               0.000                 0.750   \n",
              "1               5               126               0.008                 0.024   \n",
              "\n",
              "   fake_punc_count fake_short_wordcnt fake_ratio_numsymbol  \\\n",
              "0                1                  2                0.050   \n",
              "1               22                 42                0.038   \n",
              "\n",
              "   fake_extreme_polarity  \n",
              "0                  False  \n",
              "1                  False  \n",
              "\n",
              "[2 rows x 31 columns]"
            ],
            "text/html": [
              "\n",
              "  <div id=\"df-6dd3725a-a25d-4ef1-bc7e-67ab3f0ba8b9\">\n",
              "    <div class=\"colab-df-container\">\n",
              "      <div>\n",
              "<style scoped>\n",
              "    .dataframe tbody tr th:only-of-type {\n",
              "        vertical-align: middle;\n",
              "    }\n",
              "\n",
              "    .dataframe tbody tr th {\n",
              "        vertical-align: top;\n",
              "    }\n",
              "\n",
              "    .dataframe thead th {\n",
              "        text-align: right;\n",
              "    }\n",
              "</style>\n",
              "<table border=\"1\" class=\"dataframe\">\n",
              "  <thead>\n",
              "    <tr style=\"text-align: right;\">\n",
              "      <th></th>\n",
              "      <th>recommendationid</th>\n",
              "      <th>author</th>\n",
              "      <th>language</th>\n",
              "      <th>review</th>\n",
              "      <th>timestamp_created</th>\n",
              "      <th>timestamp_updated</th>\n",
              "      <th>voted_up</th>\n",
              "      <th>votes_up</th>\n",
              "      <th>votes_funny</th>\n",
              "      <th>weighted_vote_score</th>\n",
              "      <th>...</th>\n",
              "      <th>textblob_subjectivity</th>\n",
              "      <th>extreme_polarity</th>\n",
              "      <th>fake_no_digits</th>\n",
              "      <th>fake_word_counts</th>\n",
              "      <th>fake_ratio_fp_words</th>\n",
              "      <th>fake_ratio_uppercases</th>\n",
              "      <th>fake_punc_count</th>\n",
              "      <th>fake_short_wordcnt</th>\n",
              "      <th>fake_ratio_numsymbol</th>\n",
              "      <th>fake_extreme_polarity</th>\n",
              "    </tr>\n",
              "  </thead>\n",
              "  <tbody>\n",
              "    <tr>\n",
              "      <th>0</th>\n",
              "      <td>13844852</td>\n",
              "      <td>steamid 76561198108867118 num_games_owned 2 nu...</td>\n",
              "      <td>english</td>\n",
              "      <td>THE BEST GAME EVER !</td>\n",
              "      <td>1420449658</td>\n",
              "      <td>1420449658</td>\n",
              "      <td>True</td>\n",
              "      <td>5</td>\n",
              "      <td>0</td>\n",
              "      <td>0.582656</td>\n",
              "      <td>...</td>\n",
              "      <td>0.3500</td>\n",
              "      <td>False</td>\n",
              "      <td>0</td>\n",
              "      <td>5</td>\n",
              "      <td>0.000</td>\n",
              "      <td>0.750</td>\n",
              "      <td>1</td>\n",
              "      <td>2</td>\n",
              "      <td>0.050</td>\n",
              "      <td>False</td>\n",
              "    </tr>\n",
              "    <tr>\n",
              "      <th>1</th>\n",
              "      <td>9587132</td>\n",
              "      <td>steamid 76561197998745774 num_games_owned 17 n...</td>\n",
              "      <td>english</td>\n",
              "      <td>Ahhh.... Dota 2. This game is severaly unbalan...</td>\n",
              "      <td>1395437376</td>\n",
              "      <td>1609582255</td>\n",
              "      <td>True</td>\n",
              "      <td>5</td>\n",
              "      <td>2</td>\n",
              "      <td>0.547834</td>\n",
              "      <td>...</td>\n",
              "      <td>0.3375</td>\n",
              "      <td>False</td>\n",
              "      <td>5</td>\n",
              "      <td>126</td>\n",
              "      <td>0.008</td>\n",
              "      <td>0.024</td>\n",
              "      <td>22</td>\n",
              "      <td>42</td>\n",
              "      <td>0.038</td>\n",
              "      <td>False</td>\n",
              "    </tr>\n",
              "  </tbody>\n",
              "</table>\n",
              "<p>2 rows × 31 columns</p>\n",
              "</div>\n",
              "      <button class=\"colab-df-convert\" onclick=\"convertToInteractive('df-6dd3725a-a25d-4ef1-bc7e-67ab3f0ba8b9')\"\n",
              "              title=\"Convert this dataframe to an interactive table.\"\n",
              "              style=\"display:none;\">\n",
              "        \n",
              "  <svg xmlns=\"http://www.w3.org/2000/svg\" height=\"24px\"viewBox=\"0 0 24 24\"\n",
              "       width=\"24px\">\n",
              "    <path d=\"M0 0h24v24H0V0z\" fill=\"none\"/>\n",
              "    <path d=\"M18.56 5.44l.94 2.06.94-2.06 2.06-.94-2.06-.94-.94-2.06-.94 2.06-2.06.94zm-11 1L8.5 8.5l.94-2.06 2.06-.94-2.06-.94L8.5 2.5l-.94 2.06-2.06.94zm10 10l.94 2.06.94-2.06 2.06-.94-2.06-.94-.94-2.06-.94 2.06-2.06.94z\"/><path d=\"M17.41 7.96l-1.37-1.37c-.4-.4-.92-.59-1.43-.59-.52 0-1.04.2-1.43.59L10.3 9.45l-7.72 7.72c-.78.78-.78 2.05 0 2.83L4 21.41c.39.39.9.59 1.41.59.51 0 1.02-.2 1.41-.59l7.78-7.78 2.81-2.81c.8-.78.8-2.07 0-2.86zM5.41 20L4 18.59l7.72-7.72 1.47 1.35L5.41 20z\"/>\n",
              "  </svg>\n",
              "      </button>\n",
              "      \n",
              "  <style>\n",
              "    .colab-df-container {\n",
              "      display:flex;\n",
              "      flex-wrap:wrap;\n",
              "      gap: 12px;\n",
              "    }\n",
              "\n",
              "    .colab-df-convert {\n",
              "      background-color: #E8F0FE;\n",
              "      border: none;\n",
              "      border-radius: 50%;\n",
              "      cursor: pointer;\n",
              "      display: none;\n",
              "      fill: #1967D2;\n",
              "      height: 32px;\n",
              "      padding: 0 0 0 0;\n",
              "      width: 32px;\n",
              "    }\n",
              "\n",
              "    .colab-df-convert:hover {\n",
              "      background-color: #E2EBFA;\n",
              "      box-shadow: 0px 1px 2px rgba(60, 64, 67, 0.3), 0px 1px 3px 1px rgba(60, 64, 67, 0.15);\n",
              "      fill: #174EA6;\n",
              "    }\n",
              "\n",
              "    [theme=dark] .colab-df-convert {\n",
              "      background-color: #3B4455;\n",
              "      fill: #D2E3FC;\n",
              "    }\n",
              "\n",
              "    [theme=dark] .colab-df-convert:hover {\n",
              "      background-color: #434B5C;\n",
              "      box-shadow: 0px 1px 3px 1px rgba(0, 0, 0, 0.15);\n",
              "      filter: drop-shadow(0px 1px 2px rgba(0, 0, 0, 0.3));\n",
              "      fill: #FFFFFF;\n",
              "    }\n",
              "  </style>\n",
              "\n",
              "      <script>\n",
              "        const buttonEl =\n",
              "          document.querySelector('#df-6dd3725a-a25d-4ef1-bc7e-67ab3f0ba8b9 button.colab-df-convert');\n",
              "        buttonEl.style.display =\n",
              "          google.colab.kernel.accessAllowed ? 'block' : 'none';\n",
              "\n",
              "        async function convertToInteractive(key) {\n",
              "          const element = document.querySelector('#df-6dd3725a-a25d-4ef1-bc7e-67ab3f0ba8b9');\n",
              "          const dataTable =\n",
              "            await google.colab.kernel.invokeFunction('convertToInteractive',\n",
              "                                                     [key], {});\n",
              "          if (!dataTable) return;\n",
              "\n",
              "          const docLinkHtml = 'Like what you see? Visit the ' +\n",
              "            '<a target=\"_blank\" href=https://colab.research.google.com/notebooks/data_table.ipynb>data table notebook</a>'\n",
              "            + ' to learn more about interactive tables.';\n",
              "          element.innerHTML = '';\n",
              "          dataTable['output_type'] = 'display_data';\n",
              "          await google.colab.output.renderOutput(dataTable, element);\n",
              "          const docLink = document.createElement('div');\n",
              "          docLink.innerHTML = docLinkHtml;\n",
              "          element.appendChild(docLink);\n",
              "        }\n",
              "      </script>\n",
              "    </div>\n",
              "  </div>\n",
              "  "
            ]
          },
          "metadata": {},
          "execution_count": 5
        }
      ]
    },
    {
      "cell_type": "code",
      "source": [
        "df_dota2.shape"
      ],
      "metadata": {
        "colab": {
          "base_uri": "https://localhost:8080/"
        },
        "id": "-qN95rykwWco",
        "outputId": "4a0e8c98-1373-41f0-fafd-18728d96f0bb"
      },
      "execution_count": null,
      "outputs": [
        {
          "output_type": "execute_result",
          "data": {
            "text/plain": [
              "(9459, 31)"
            ]
          },
          "metadata": {},
          "execution_count": 6
        }
      ]
    },
    {
      "cell_type": "markdown",
      "source": [
        "##### Visualization of Sentiments over Time"
      ],
      "metadata": {
        "id": "Sm-pwsrOAy6N"
      }
    },
    {
      "cell_type": "code",
      "source": [
        "# Check the time span of the reviews\n",
        "print(\"First data point: \", df_dota2['time_created'].min(), \"Last data point: \", df_dota2['time_created'].max())"
      ],
      "metadata": {
        "colab": {
          "base_uri": "https://localhost:8080/"
        },
        "id": "Ntqlbr0lwkZn",
        "outputId": "1ce7f1f2-9be1-4c7e-aa52-9ab1ae73c68d"
      },
      "execution_count": null,
      "outputs": [
        {
          "output_type": "stream",
          "name": "stdout",
          "text": [
            "First data point:  2011-08-01 14:10:24 Last data point:  2022-05-13 20:04:36\n"
          ]
        }
      ]
    },
    {
      "cell_type": "markdown",
      "source": [
        "**The reviews range from August 2011 to May 2022,  covering pre-pandemic periods.**"
      ],
      "metadata": {
        "id": "W1fHh2MSw9Ng"
      }
    },
    {
      "cell_type": "code",
      "source": [
        "# Extract month-level date from time_created\n",
        "df_dota2['yearmonth'] = df_dota2['time_created'].apply(lambda x: x[:7]) "
      ],
      "metadata": {
        "id": "4ZnV2eRqwkcs"
      },
      "execution_count": null,
      "outputs": []
    },
    {
      "cell_type": "code",
      "source": [
        "df_month = df_dota2.groupby('yearmonth').agg('mean')\n",
        "df_month = df_month.reset_index()"
      ],
      "metadata": {
        "id": "6kUaOyxHwwlZ"
      },
      "execution_count": null,
      "outputs": []
    },
    {
      "cell_type": "code",
      "source": [
        "# Convert yearmonth column to datetime object\n",
        "df_month['datetime_yearmonth'] = pd.to_datetime(df_month['yearmonth'])"
      ],
      "metadata": {
        "id": "c0J88_Sfwwn3"
      },
      "execution_count": null,
      "outputs": []
    },
    {
      "cell_type": "code",
      "source": [
        "import matplotlib.dates as mdates\n",
        "\n",
        "fig, ax = plt.subplots(nrows=1, ncols=1, figsize=(18, 8))\n",
        "ax.plot(df_month['datetime_yearmonth'],\n",
        "       df_month['vader_com'],\n",
        "       color='c', lw=2, label = 'Vader Compound Score')\n",
        "\n",
        "ax.plot(df_month['datetime_yearmonth'],\n",
        "       df_month['textblob_polarity'],\n",
        "       color='b', lw=2, label = 'Textblob Polarity')\n",
        "\n",
        "ax.plot(df_month['datetime_yearmonth'],\n",
        "       df_month['toxicity_perspective'],\n",
        "       color='r', lw=2, label = 'Toxicity')\n",
        "\n",
        "locator = mdates.AutoDateLocator()\n",
        "formatter = mdates.ConciseDateFormatter(locator)\n",
        "\n",
        "ax.xaxis.set_major_locator(locator)\n",
        "ax.xaxis.set_major_formatter(formatter)\n",
        "\n",
        "# Add grid\n",
        "plt.grid(b=True, which='both', axis='both')\n",
        "plt.legend(fontsize = 16)\n",
        "plt.xlabel('Date', fontsize=16)\n",
        "plt.ylabel('Sentiment / Toxicity', fontsize=16)\n",
        "plt.title('Sentiment Polarity and Toxicity Scores, 2012 - 2022', fontsize = 20)\n",
        "plt.show()"
      ],
      "metadata": {
        "colab": {
          "base_uri": "https://localhost:8080/",
          "height": 523
        },
        "id": "iOF9fC0K1IaM",
        "outputId": "e25eb9b4-c4ee-4d67-8546-ca98bf0dd1c3"
      },
      "execution_count": null,
      "outputs": [
        {
          "output_type": "display_data",
          "data": {
            "text/plain": [
              "<Figure size 1296x576 with 1 Axes>"
            ],
            "image/png": "[encoded data removed]"
          },
          "metadata": {
            "needs_background": "light"
          }
        }
      ]
    },
    {
      "cell_type": "markdown",
      "source": [
        "**Inference**\n",
        "\n",
        "- The volatile fluctuations in early dates are caused by on-going beta testings of the game. From 2011 to mid 2013, Dota2 was continuously testing its beta versions. And finally, Dota2 was *officially released in July 2013*. Since then, the sentiments become less volatile.\n",
        "- The sentiment polarity seems to have a overall trend of decreasing from first quarter in 2020 to 2022. We will test this in following steps.\n"
      ],
      "metadata": {
        "id": "RloMmvEn4qIv"
      }
    },
    {
      "cell_type": "markdown",
      "source": [
        "##### Define Time Periods\n",
        "\n",
        "- **Pre-pandemic:** Before 2020 March\n",
        "  \n",
        "  Reasoning: 2020 March is a key date for the majority of countries to shift to more stringent covid-related policies. \n",
        "\n",
        "  C.D.C recommended no gatherings of 50 or more people in the U.S.. \n",
        "  E.U. restricted travelers from outside the E.U. regions. \n",
        "  India also announced the 21-day lockdown policy in March 2020.\n",
        "    \n",
        "    \n",
        "- **Peaks of pandemic:** 2020 March - 2021 June\n",
        "\n",
        "  Reasoning: In most states in the U.S., mask mandates have eased, restrictions have lifted and people have gone back to business.\n",
        "\n",
        "\n",
        "##### Key dates related to Covid\n",
        "\n",
        "- March 15, 2020: The C.D.C. recommended no gatherings of 50 or more people in the U.S.\n",
        "- March 17, 2020: The E.U. barred most travelers from outside the bloc.\n",
        "- March 24, 2020: India announced a 21-day lockdown.\n",
        "- May 31, 2021: Alabama’s public health order would expire on May 31 and that restrictions on senior care facilities, hospitals and nursing homes would be lifted.\n",
        "- June 26, 2021: In Florida, a state of emergency was allowed to expire on June 26.\n",
        "- October 1, 2021:  N.Y.C. was the first major U.S. city to reopen all its public schools for in-person learning.\n",
        "\n",
        "References:\n",
        "\n",
        "https://www.nytimes.com/article/coronavirus-timeline.html\n",
        "\n",
        "https://www.nytimes.com/interactive/2020/us/states-reopen-map-coronavirus.html\n",
        "\n",
        "\n"
      ],
      "metadata": {
        "id": "DiMW0wBQApEX"
      }
    },
    {
      "cell_type": "code",
      "source": [
        "# Generated a column to assign values based on time breaks\n",
        "\n",
        "# Before 2020 March\n",
        "df_dota2['covid'] = 2\n",
        "\n",
        "# 2020, March - 2021, June\n",
        "df_dota2.loc[df_dota2.yearmonth <'2020-03','covid'] = 1 \n",
        "\n",
        "# 2021, June - 2022 May\n",
        "df_dota2.loc[df_dota2.yearmonth >'2021-06','covid'] = 3"
      ],
      "metadata": {
        "id": "diIQJTEF9Cg9"
      },
      "execution_count": null,
      "outputs": []
    },
    {
      "cell_type": "code",
      "source": [
        "# calculate mean by covid group\n",
        "df_covid = df_dota2[['covid','toxicity_perspective','vader_com']].groupby(['covid']).agg('mean')"
      ],
      "metadata": {
        "id": "hNocceCI9Cjc"
      },
      "execution_count": null,
      "outputs": []
    },
    {
      "cell_type": "code",
      "source": [
        "# inspect df_covid\n",
        "df_covid"
      ],
      "metadata": {
        "id": "kT5zfGQ86gPo",
        "colab": {
          "base_uri": "https://localhost:8080/",
          "height": 175
        },
        "outputId": "d43b3b2c-6819-40b0-f70e-0ed6d9123059"
      },
      "execution_count": null,
      "outputs": [
        {
          "output_type": "execute_result",
          "data": {
            "text/plain": [
              "       toxicity_perspective  vader_com\n",
              "covid                                 \n",
              "1                  0.185453   0.278276\n",
              "2                  0.168744   0.254618\n",
              "3                  0.187443   0.191532"
            ],
            "text/html": [
              "\n",
              "  <div id=\"df-7bf8afbc-5dcd-45f7-9b82-586aeae0aa1a\">\n",
              "    <div class=\"colab-df-container\">\n",
              "      <div>\n",
              "<style scoped>\n",
              "    .dataframe tbody tr th:only-of-type {\n",
              "        vertical-align: middle;\n",
              "    }\n",
              "\n",
              "    .dataframe tbody tr th {\n",
              "        vertical-align: top;\n",
              "    }\n",
              "\n",
              "    .dataframe thead th {\n",
              "        text-align: right;\n",
              "    }\n",
              "</style>\n",
              "<table border=\"1\" class=\"dataframe\">\n",
              "  <thead>\n",
              "    <tr style=\"text-align: right;\">\n",
              "      <th></th>\n",
              "      <th>toxicity_perspective</th>\n",
              "      <th>vader_com</th>\n",
              "    </tr>\n",
              "    <tr>\n",
              "      <th>covid</th>\n",
              "      <th></th>\n",
              "      <th></th>\n",
              "    </tr>\n",
              "  </thead>\n",
              "  <tbody>\n",
              "    <tr>\n",
              "      <th>1</th>\n",
              "      <td>0.185453</td>\n",
              "      <td>0.278276</td>\n",
              "    </tr>\n",
              "    <tr>\n",
              "      <th>2</th>\n",
              "      <td>0.168744</td>\n",
              "      <td>0.254618</td>\n",
              "    </tr>\n",
              "    <tr>\n",
              "      <th>3</th>\n",
              "      <td>0.187443</td>\n",
              "      <td>0.191532</td>\n",
              "    </tr>\n",
              "  </tbody>\n",
              "</table>\n",
              "</div>\n",
              "      <button class=\"colab-df-convert\" onclick=\"convertToInteractive('df-7bf8afbc-5dcd-45f7-9b82-586aeae0aa1a')\"\n",
              "              title=\"Convert this dataframe to an interactive table.\"\n",
              "              style=\"display:none;\">\n",
              "        \n",
              "  <svg xmlns=\"http://www.w3.org/2000/svg\" height=\"24px\"viewBox=\"0 0 24 24\"\n",
              "       width=\"24px\">\n",
              "    <path d=\"M0 0h24v24H0V0z\" fill=\"none\"/>\n",
              "    <path d=\"M18.56 5.44l.94 2.06.94-2.06 2.06-.94-2.06-.94-.94-2.06-.94 2.06-2.06.94zm-11 1L8.5 8.5l.94-2.06 2.06-.94-2.06-.94L8.5 2.5l-.94 2.06-2.06.94zm10 10l.94 2.06.94-2.06 2.06-.94-2.06-.94-.94-2.06-.94 2.06-2.06.94z\"/><path d=\"M17.41 7.96l-1.37-1.37c-.4-.4-.92-.59-1.43-.59-.52 0-1.04.2-1.43.59L10.3 9.45l-7.72 7.72c-.78.78-.78 2.05 0 2.83L4 21.41c.39.39.9.59 1.41.59.51 0 1.02-.2 1.41-.59l7.78-7.78 2.81-2.81c.8-.78.8-2.07 0-2.86zM5.41 20L4 18.59l7.72-7.72 1.47 1.35L5.41 20z\"/>\n",
              "  </svg>\n",
              "      </button>\n",
              "      \n",
              "  <style>\n",
              "    .colab-df-container {\n",
              "      display:flex;\n",
              "      flex-wrap:wrap;\n",
              "      gap: 12px;\n",
              "    }\n",
              "\n",
              "    .colab-df-convert {\n",
              "      background-color: #E8F0FE;\n",
              "      border: none;\n",
              "      border-radius: 50%;\n",
              "      cursor: pointer;\n",
              "      display: none;\n",
              "      fill: #1967D2;\n",
              "      height: 32px;\n",
              "      padding: 0 0 0 0;\n",
              "      width: 32px;\n",
              "    }\n",
              "\n",
              "    .colab-df-convert:hover {\n",
              "      background-color: #E2EBFA;\n",
              "      box-shadow: 0px 1px 2px rgba(60, 64, 67, 0.3), 0px 1px 3px 1px rgba(60, 64, 67, 0.15);\n",
              "      fill: #174EA6;\n",
              "    }\n",
              "\n",
              "    [theme=dark] .colab-df-convert {\n",
              "      background-color: #3B4455;\n",
              "      fill: #D2E3FC;\n",
              "    }\n",
              "\n",
              "    [theme=dark] .colab-df-convert:hover {\n",
              "      background-color: #434B5C;\n",
              "      box-shadow: 0px 1px 3px 1px rgba(0, 0, 0, 0.15);\n",
              "      filter: drop-shadow(0px 1px 2px rgba(0, 0, 0, 0.3));\n",
              "      fill: #FFFFFF;\n",
              "    }\n",
              "  </style>\n",
              "\n",
              "      <script>\n",
              "        const buttonEl =\n",
              "          document.querySelector('#df-7bf8afbc-5dcd-45f7-9b82-586aeae0aa1a button.colab-df-convert');\n",
              "        buttonEl.style.display =\n",
              "          google.colab.kernel.accessAllowed ? 'block' : 'none';\n",
              "\n",
              "        async function convertToInteractive(key) {\n",
              "          const element = document.querySelector('#df-7bf8afbc-5dcd-45f7-9b82-586aeae0aa1a');\n",
              "          const dataTable =\n",
              "            await google.colab.kernel.invokeFunction('convertToInteractive',\n",
              "                                                     [key], {});\n",
              "          if (!dataTable) return;\n",
              "\n",
              "          const docLinkHtml = 'Like what you see? Visit the ' +\n",
              "            '<a target=\"_blank\" href=https://colab.research.google.com/notebooks/data_table.ipynb>data table notebook</a>'\n",
              "            + ' to learn more about interactive tables.';\n",
              "          element.innerHTML = '';\n",
              "          dataTable['output_type'] = 'display_data';\n",
              "          await google.colab.output.renderOutput(dataTable, element);\n",
              "          const docLink = document.createElement('div');\n",
              "          docLink.innerHTML = docLinkHtml;\n",
              "          element.appendChild(docLink);\n",
              "        }\n",
              "      </script>\n",
              "    </div>\n",
              "  </div>\n",
              "  "
            ]
          },
          "metadata": {},
          "execution_count": 14
        }
      ]
    },
    {
      "cell_type": "markdown",
      "source": [
        "1 - Pre-pandemic (Before 2020 March)\n",
        "\n",
        "2 - Peak of pandemic (2020 April - 2021 June)\n",
        "\n",
        "3 - After the peak of pandemic (2021 July - 2022 May)"
      ],
      "metadata": {
        "id": "9N5sWUsJ4zlu"
      }
    },
    {
      "cell_type": "markdown",
      "source": [
        "**Inference**\n",
        "- It seems that the sentiment scores measured by VADER decreased during the peak of pandemic.\n",
        "- The toxicity level of reviews decreased during the peak of pandemic and returned to the level before pandemic since 2021 June. "
      ],
      "metadata": {
        "id": "YAvMBc0s5R6o"
      }
    },
    {
      "cell_type": "markdown",
      "source": [
        "##### Run t-tests to Check If Differences are Statistically Significant"
      ],
      "metadata": {
        "id": "75KfkVjd5zXH"
      }
    },
    {
      "cell_type": "markdown",
      "source": [
        "######VADER Sentiment Scores"
      ],
      "metadata": {
        "id": "9q_3qFSk6eMc"
      }
    },
    {
      "cell_type": "code",
      "source": [
        "from scipy import stats"
      ],
      "metadata": {
        "id": "cCpgYRvl4szL"
      },
      "execution_count": null,
      "outputs": []
    },
    {
      "cell_type": "code",
      "source": [
        "# Pre-pandemic & Peaks of pandemic\n",
        "stats.ttest_ind(df_dota2[df_dota2['covid']==1]['vader_com'], df_dota2[df_dota2['covid']==2]['vader_com'])"
      ],
      "metadata": {
        "colab": {
          "base_uri": "https://localhost:8080/"
        },
        "id": "AgsWxPbw4s1Y",
        "outputId": "9092554f-390c-4531-a207-a7bf636ea94f"
      },
      "execution_count": null,
      "outputs": [
        {
          "output_type": "execute_result",
          "data": {
            "text/plain": [
              "Ttest_indResult(statistic=1.9946574842103848, pvalue=0.046111572358890046)"
            ]
          },
          "metadata": {},
          "execution_count": 16
        }
      ]
    },
    {
      "cell_type": "markdown",
      "source": [
        "**Interpretation**\n",
        "\n",
        "- The difference of sentiment polarities between pre-pandemic and peak of pandemic is significant on the confidence level of 95%. \n",
        "- That is to say, that there is a decrease in sentiment polarity during the peaks of pandemic. \n",
        "- People had LESS POSITIVE sentiment during the peak of pandemic."
      ],
      "metadata": {
        "id": "6mztWtpn7FLP"
      }
    },
    {
      "cell_type": "code",
      "source": [
        "# Peaks of pandemic & Post peak pandemic\n",
        "stats.ttest_ind(df_dota2[df_dota2['covid']==2]['vader_com'], df_dota2[df_dota2['covid']==3]['vader_com'])"
      ],
      "metadata": {
        "colab": {
          "base_uri": "https://localhost:8080/"
        },
        "id": "tkree6UO4s5E",
        "outputId": "00ab6868-355a-4ffe-9b57-033174ad1546"
      },
      "execution_count": null,
      "outputs": [
        {
          "output_type": "execute_result",
          "data": {
            "text/plain": [
              "Ttest_indResult(statistic=3.3735342963879233, pvalue=0.0007521307701256443)"
            ]
          },
          "metadata": {},
          "execution_count": 17
        }
      ]
    },
    {
      "cell_type": "markdown",
      "source": [
        "**Interpretation**\n",
        "\n",
        "- The difference of sentiment polarities between peak of pandemic and post peak pandemic is significant on the confidence level of 99%.\n",
        "- That is to say, that there is a decrease in sentiment polarity during and after the peaks of pandemic. \n",
        "- People have LESS POSITIVE sentiment after the peak of pandemic."
      ],
      "metadata": {
        "id": "mSMBzLDc7qbc"
      }
    },
    {
      "cell_type": "markdown",
      "source": [
        "###### Toxicity Scores"
      ],
      "metadata": {
        "id": "pNNIJVZ38N7u"
      }
    },
    {
      "cell_type": "code",
      "source": [
        "df_covid.toxicity_perspective"
      ],
      "metadata": {
        "colab": {
          "base_uri": "https://localhost:8080/"
        },
        "id": "PLRXsQ486wjT",
        "outputId": "5f837468-2155-4701-895e-223e511f4780"
      },
      "execution_count": null,
      "outputs": [
        {
          "output_type": "execute_result",
          "data": {
            "text/plain": [
              "covid\n",
              "1    0.185453\n",
              "2    0.168744\n",
              "3    0.187443\n",
              "Name: toxicity_perspective, dtype: float64"
            ]
          },
          "metadata": {},
          "execution_count": 18
        }
      ]
    },
    {
      "cell_type": "code",
      "source": [
        "# Pre-pandemic & Peaks of pandemic\n",
        "stats.ttest_ind(df_dota2[df_dota2['covid']==1]['toxicity_perspective'], df_dota2[df_dota2['covid']==2]['toxicity_perspective'])"
      ],
      "metadata": {
        "colab": {
          "base_uri": "https://localhost:8080/"
        },
        "id": "4vC6WgmQ6wlx",
        "outputId": "c49e97dc-e608-4dc7-cf4a-9ba866251483"
      },
      "execution_count": null,
      "outputs": [
        {
          "output_type": "execute_result",
          "data": {
            "text/plain": [
              "Ttest_indResult(statistic=2.9046132677953196, pvalue=0.003686381971286278)"
            ]
          },
          "metadata": {},
          "execution_count": 19
        }
      ]
    },
    {
      "cell_type": "code",
      "source": [
        "# Peaks of pandemic & Post peak pandemic\n",
        "stats.ttest_ind(df_dota2[df_dota2['covid']==2]['toxicity_perspective'], df_dota2[df_dota2['covid']==3]['toxicity_perspective'])"
      ],
      "metadata": {
        "colab": {
          "base_uri": "https://localhost:8080/"
        },
        "id": "NklvIz-P6woJ",
        "outputId": "f5c55099-26eb-41b8-c4c3-9ffc6eb8bbe4"
      },
      "execution_count": null,
      "outputs": [
        {
          "output_type": "execute_result",
          "data": {
            "text/plain": [
              "Ttest_indResult(statistic=-2.0595554188895595, pvalue=0.0395327583413057)"
            ]
          },
          "metadata": {},
          "execution_count": 20
        }
      ]
    },
    {
      "cell_type": "markdown",
      "source": [
        "**Interpretation**\n",
        "\n",
        "- The toxicity level of reviews significantly decreased during the peak of pandemic.\n",
        "- After the peak of pandemic, the toxicity level significantly increased and returned to the similar level of pre-pandemic period.\n",
        "\n"
      ],
      "metadata": {
        "id": "Uhci9OPU8f4g"
      }
    },
    {
      "cell_type": "markdown",
      "source": [
        "# RQ2: What is the relationship between toxicity level of reviews and user gaming time?\n",
        "\n",
        "\n"
      ],
      "metadata": {
        "id": "k1ZOI-yBtw3A"
      }
    },
    {
      "cell_type": "markdown",
      "source": [
        "#####**Modeling gaming time and toxicity score**"
      ],
      "metadata": {
        "id": "-Ag6jmTm-1fO"
      }
    },
    {
      "cell_type": "markdown",
      "source": [
        "We would like to see whether game times will affect the attitude of players' comment. From the scapped data, we are able to find several key measurements, such as play time forever and play time at review. In addition, we used the calculated toxicity score from the last assignment as our depedent variable. Our baseline model adopted ElasticNet regression and used the MAE(Mean Absolute Error) and MSE (Mean Sqaure Error) to access the performance, which are 0.173 and 0.230 respectively. The scores indicated the toxicity score could be measured by different gaming time variables."
      ],
      "metadata": {
        "id": "573tkLxxuz6P"
      }
    },
    {
      "cell_type": "code",
      "source": [
        "## create empty lists to store the game time\n",
        "playtime_forever = []\n",
        "playtime_last_two_weeks=[]\n",
        "play_time_at_review = []\n",
        "\n",
        "## loop through the nest list in the author column\n",
        "for i in range(len(df_dota2.author)):\n",
        "    ## clean the unnecessary punctuation\n",
        "    df_dota2.author[i] = df_dota2.author[i].replace('\\'', '')\n",
        "    df_dota2.author[i] = df_dota2.author[i].replace('{', '')\n",
        "    df_dota2.author[i] = df_dota2.author[i].replace('}', '')\n",
        "    df_dota2.author[i] = df_dota2.author[i].replace(':', '')\n",
        "    df_dota2.author[i] = df_dota2.author[i].replace(',', '')\n",
        "    ## first split using the space\n",
        "    gametime_split = df_dota2.author[i].split(' ')\n",
        "    ## loop through the splitted sentence, now in list format \n",
        "    ## extract the game time numbers\n",
        "    for j in range(len(gametime_split)):\n",
        "        if(gametime_split[j] =='playtime_forever'):\n",
        "            playtime_forever.append(gametime_split[j+1]) ##get next item\n",
        "        elif(gametime_split[j] == 'playtime_last_two_weeks'):\n",
        "            playtime_last_two_weeks.append(gametime_split[j+1])\n",
        "        elif(gametime_split[j] == 'playtime_at_review'):\n",
        "            play_time_at_review.append(gametime_split[j+1])"
      ],
      "metadata": {
        "id": "X--ByXaSuHVl"
      },
      "execution_count": null,
      "outputs": []
    },
    {
      "cell_type": "code",
      "source": [
        "## The orginal data contains empty value for play time at review, so we are going to add zeros.\n",
        "missing_play_time_at_review = [0,0,0]\n",
        "play_time_at_review = play_time_at_review + missing_play_time_at_review"
      ],
      "metadata": {
        "id": "-vUZ5PJQvR02"
      },
      "execution_count": null,
      "outputs": []
    },
    {
      "cell_type": "code",
      "source": [
        "## Create depedent and independent dataset\n",
        "X = pd.DataFrame(list(zip(playtime_forever, playtime_last_two_weeks, play_time_at_review)), \n",
        "                 columns=['playtime_forever', 'playtime_last_two_weeks','playtime_at_review'])\n",
        "#y = data.toxicity_perspective\n",
        "y = df_dota2.toxicity_perspective"
      ],
      "metadata": {
        "id": "6JwKTx90vR3W"
      },
      "execution_count": null,
      "outputs": []
    },
    {
      "cell_type": "code",
      "source": [
        "from sklearn.linear_model import ElasticNet\n",
        "from sklearn.model_selection import RepeatedKFold\n",
        "from sklearn.model_selection import train_test_split, cross_val_score\n",
        "from sklearn.metrics import mean_squared_error"
      ],
      "metadata": {
        "id": "ybJ8e2BxvR5k"
      },
      "execution_count": null,
      "outputs": []
    },
    {
      "cell_type": "code",
      "source": [
        "## train test split\n",
        "X_train, X_test, y_train, y_test = train_test_split(X, y, test_size=0.33, random_state=42)\n",
        "## create the ElasticNet model and feed in the data\n",
        "enet_model = ElasticNet(alpha=20.0, l1_ratio=0.5, random_state=1).fit(X_train, y_train)\n",
        "## get y_prediction\n",
        "y_pred = enet_model.predict(X_test)"
      ],
      "metadata": {
        "id": "1o7I-nKNu47n"
      },
      "execution_count": null,
      "outputs": []
    },
    {
      "cell_type": "code",
      "source": [
        "## calculate mse\n",
        "np.sqrt(mean_squared_error(y_test,y_pred))"
      ],
      "metadata": {
        "colab": {
          "base_uri": "https://localhost:8080/"
        },
        "id": "7RbXjuY4vZU4",
        "outputId": "0eceea55-e5ca-4f81-bbbd-780e03274154"
      },
      "execution_count": null,
      "outputs": [
        {
          "output_type": "execute_result",
          "data": {
            "text/plain": [
              "0.23045372685903662"
            ]
          },
          "metadata": {},
          "execution_count": 26
        }
      ]
    },
    {
      "cell_type": "markdown",
      "source": [
        "We also want to know how the model will perform by using cross validation"
      ],
      "metadata": {
        "id": "HAzNTpkRvgR4"
      }
    },
    {
      "cell_type": "code",
      "source": [
        "## same model but for cv\n",
        "model = ElasticNet(alpha=1.0, l1_ratio=0.5, random_state=1)"
      ],
      "metadata": {
        "id": "slNoZJ34vZXw"
      },
      "execution_count": null,
      "outputs": []
    },
    {
      "cell_type": "code",
      "source": [
        "## creat a Kfold object\n",
        "cv = RepeatedKFold(n_splits=10, n_repeats=3, random_state=1)\n",
        "\n",
        "## get cv score using neg_mean_absolute_error\n",
        "scores = cross_val_score(model, X, y, scoring='neg_mean_absolute_error', cv=cv, n_jobs=-1)\n",
        "\n",
        "## convert scores as absolutes\n",
        "scores = abs(scores)\n",
        "print('Mean MAE: %.3f (%.3f)' % (np.mean(scores), np.std(scores)))"
      ],
      "metadata": {
        "colab": {
          "base_uri": "https://localhost:8080/"
        },
        "id": "cSAMPZL_vjq4",
        "outputId": "c3aa0028-e36d-4d26-e10a-ec18c701ffdf"
      },
      "execution_count": null,
      "outputs": [
        {
          "output_type": "stream",
          "name": "stdout",
          "text": [
            "Mean MAE: 0.173 (0.003)\n"
          ]
        }
      ]
    },
    {
      "cell_type": "markdown",
      "source": [
        "# RQ3: What are typical linguistic patterns of fake reviews in the Steam Community?\n"
      ],
      "metadata": {
        "id": "jaOAGXuut993"
      }
    },
    {
      "cell_type": "markdown",
      "source": [
        "## Fake Review Modeling\n",
        "\n",
        "### Part I. Suspicious pattern clustering\n",
        "\n",
        "Since there's no general predefined criteria for \"fake review\", we determine to perform **8 tasks that can identify suspicious patterns** of fake reviews:\n",
        "\n",
        "1. Find the total number of numbers\n",
        "2. Find the length of review tokens (T)\n",
        "3. Find the Ratio of total number of first-person words\n",
        "4. Find the Ratio of total number of uppercase letters\n",
        "5. Find the total number of punctuation symbols\n",
        "6. Find the total number of short words\n",
        "7. Find the ratio of total number of digits and symbols\n",
        "8. Find extreme sentiment scores\n",
        "\n",
        "After calculating suspicious pattern scores for each review, we decide to use unsupervised model, \"K-means clustering to group similar reviews together. \n",
        "\n",
        "In the process, we use elbow method to find the most optimal K, and we go with 20 clusters. ( Will explain why we use cluster=20 in below code block)\n",
        "\n",
        "\n",
        "The cluster, namely our new variable, is treated as our conclusion on all fake review patterns above and can be used in later supervised-model analysis. \n"
      ],
      "metadata": {
        "id": "wlXL0EEo3kkl"
      }
    },
    {
      "cell_type": "code",
      "source": [
        "# Load our data\n",
        "fake_df = pd.read_csv('/content/gdrive/MyDrive/IMT547/dota2_10k_toxcity_sentiment_fake.csv')\n",
        "fake_df = fake_df[['fake_no_digits', 'fake_word_counts', 'fake_ratio_fp_words', 'fake_ratio_uppercases', 'fake_punc_count', 'fake_short_wordcnt', \n",
        "                  'fake_ratio_numsymbol', 'fake_extreme_polarity']]\n",
        "# Convert \"True, Flase\" to \"0, 1\" for our model\n",
        "from sklearn.preprocessing import LabelEncoder\n",
        "le = LabelEncoder()\n",
        "fake_df['fake_extreme_polarity'] = le.fit_transform(fake_df['fake_extreme_polarity'])\n",
        "# Feature scaling with MinMaxScaler\n",
        "cols = fake_df.columns\n",
        "from sklearn.preprocessing import MinMaxScaler\n",
        "ms = MinMaxScaler()\n",
        "fake_df_sc = ms.fit_transform(fake_df)\n",
        "fake_df_sc = pd.DataFrame(fake_df_sc, columns=[cols])\n",
        "fake_df_sc.head(2)"
      ],
      "metadata": {
        "colab": {
          "base_uri": "https://localhost:8080/",
          "height": 176
        },
        "id": "dQgHHAySnHgT",
        "outputId": "1e179d7e-3c68-4807-8396-57ae90961dc8"
      },
      "execution_count": null,
      "outputs": [
        {
          "output_type": "execute_result",
          "data": {
            "text/plain": [
              "  fake_no_digits fake_word_counts fake_ratio_fp_words fake_ratio_uppercases  \\\n",
              "0        0.00000         0.002797               0.000                 0.750   \n",
              "1        0.03876         0.087413               0.016                 0.024   \n",
              "\n",
              "  fake_punc_count fake_short_wordcnt fake_ratio_numsymbol  \\\n",
              "0        0.003086           0.003861             0.059172   \n",
              "1        0.067901           0.081081             0.044970   \n",
              "\n",
              "  fake_extreme_polarity  \n",
              "0                   0.0  \n",
              "1                   0.0  "
            ],
            "text/html": [
              "\n",
              "  <div id=\"df-07e45722-b603-4da5-ab80-36f3614c2979\">\n",
              "    <div class=\"colab-df-container\">\n",
              "      <div>\n",
              "<style scoped>\n",
              "    .dataframe tbody tr th:only-of-type {\n",
              "        vertical-align: middle;\n",
              "    }\n",
              "\n",
              "    .dataframe tbody tr th {\n",
              "        vertical-align: top;\n",
              "    }\n",
              "\n",
              "    .dataframe thead tr th {\n",
              "        text-align: left;\n",
              "    }\n",
              "</style>\n",
              "<table border=\"1\" class=\"dataframe\">\n",
              "  <thead>\n",
              "    <tr>\n",
              "      <th></th>\n",
              "      <th>fake_no_digits</th>\n",
              "      <th>fake_word_counts</th>\n",
              "      <th>fake_ratio_fp_words</th>\n",
              "      <th>fake_ratio_uppercases</th>\n",
              "      <th>fake_punc_count</th>\n",
              "      <th>fake_short_wordcnt</th>\n",
              "      <th>fake_ratio_numsymbol</th>\n",
              "      <th>fake_extreme_polarity</th>\n",
              "    </tr>\n",
              "  </thead>\n",
              "  <tbody>\n",
              "    <tr>\n",
              "      <th>0</th>\n",
              "      <td>0.00000</td>\n",
              "      <td>0.002797</td>\n",
              "      <td>0.000</td>\n",
              "      <td>0.750</td>\n",
              "      <td>0.003086</td>\n",
              "      <td>0.003861</td>\n",
              "      <td>0.059172</td>\n",
              "      <td>0.0</td>\n",
              "    </tr>\n",
              "    <tr>\n",
              "      <th>1</th>\n",
              "      <td>0.03876</td>\n",
              "      <td>0.087413</td>\n",
              "      <td>0.016</td>\n",
              "      <td>0.024</td>\n",
              "      <td>0.067901</td>\n",
              "      <td>0.081081</td>\n",
              "      <td>0.044970</td>\n",
              "      <td>0.0</td>\n",
              "    </tr>\n",
              "  </tbody>\n",
              "</table>\n",
              "</div>\n",
              "      <button class=\"colab-df-convert\" onclick=\"convertToInteractive('df-07e45722-b603-4da5-ab80-36f3614c2979')\"\n",
              "              title=\"Convert this dataframe to an interactive table.\"\n",
              "              style=\"display:none;\">\n",
              "        \n",
              "  <svg xmlns=\"http://www.w3.org/2000/svg\" height=\"24px\"viewBox=\"0 0 24 24\"\n",
              "       width=\"24px\">\n",
              "    <path d=\"M0 0h24v24H0V0z\" fill=\"none\"/>\n",
              "    <path d=\"M18.56 5.44l.94 2.06.94-2.06 2.06-.94-2.06-.94-.94-2.06-.94 2.06-2.06.94zm-11 1L8.5 8.5l.94-2.06 2.06-.94-2.06-.94L8.5 2.5l-.94 2.06-2.06.94zm10 10l.94 2.06.94-2.06 2.06-.94-2.06-.94-.94-2.06-.94 2.06-2.06.94z\"/><path d=\"M17.41 7.96l-1.37-1.37c-.4-.4-.92-.59-1.43-.59-.52 0-1.04.2-1.43.59L10.3 9.45l-7.72 7.72c-.78.78-.78 2.05 0 2.83L4 21.41c.39.39.9.59 1.41.59.51 0 1.02-.2 1.41-.59l7.78-7.78 2.81-2.81c.8-.78.8-2.07 0-2.86zM5.41 20L4 18.59l7.72-7.72 1.47 1.35L5.41 20z\"/>\n",
              "  </svg>\n",
              "      </button>\n",
              "      \n",
              "  <style>\n",
              "    .colab-df-container {\n",
              "      display:flex;\n",
              "      flex-wrap:wrap;\n",
              "      gap: 12px;\n",
              "    }\n",
              "\n",
              "    .colab-df-convert {\n",
              "      background-color: #E8F0FE;\n",
              "      border: none;\n",
              "      border-radius: 50%;\n",
              "      cursor: pointer;\n",
              "      display: none;\n",
              "      fill: #1967D2;\n",
              "      height: 32px;\n",
              "      padding: 0 0 0 0;\n",
              "      width: 32px;\n",
              "    }\n",
              "\n",
              "    .colab-df-convert:hover {\n",
              "      background-color: #E2EBFA;\n",
              "      box-shadow: 0px 1px 2px rgba(60, 64, 67, 0.3), 0px 1px 3px 1px rgba(60, 64, 67, 0.15);\n",
              "      fill: #174EA6;\n",
              "    }\n",
              "\n",
              "    [theme=dark] .colab-df-convert {\n",
              "      background-color: #3B4455;\n",
              "      fill: #D2E3FC;\n",
              "    }\n",
              "\n",
              "    [theme=dark] .colab-df-convert:hover {\n",
              "      background-color: #434B5C;\n",
              "      box-shadow: 0px 1px 3px 1px rgba(0, 0, 0, 0.15);\n",
              "      filter: drop-shadow(0px 1px 2px rgba(0, 0, 0, 0.3));\n",
              "      fill: #FFFFFF;\n",
              "    }\n",
              "  </style>\n",
              "\n",
              "      <script>\n",
              "        const buttonEl =\n",
              "          document.querySelector('#df-07e45722-b603-4da5-ab80-36f3614c2979 button.colab-df-convert');\n",
              "        buttonEl.style.display =\n",
              "          google.colab.kernel.accessAllowed ? 'block' : 'none';\n",
              "\n",
              "        async function convertToInteractive(key) {\n",
              "          const element = document.querySelector('#df-07e45722-b603-4da5-ab80-36f3614c2979');\n",
              "          const dataTable =\n",
              "            await google.colab.kernel.invokeFunction('convertToInteractive',\n",
              "                                                     [key], {});\n",
              "          if (!dataTable) return;\n",
              "\n",
              "          const docLinkHtml = 'Like what you see? Visit the ' +\n",
              "            '<a target=\"_blank\" href=https://colab.research.google.com/notebooks/data_table.ipynb>data table notebook</a>'\n",
              "            + ' to learn more about interactive tables.';\n",
              "          element.innerHTML = '';\n",
              "          dataTable['output_type'] = 'display_data';\n",
              "          await google.colab.output.renderOutput(dataTable, element);\n",
              "          const docLink = document.createElement('div');\n",
              "          docLink.innerHTML = docLinkHtml;\n",
              "          element.appendChild(docLink);\n",
              "        }\n",
              "      </script>\n",
              "    </div>\n",
              "  </div>\n",
              "  "
            ]
          },
          "metadata": {},
          "execution_count": 12
        }
      ]
    },
    {
      "cell_type": "code",
      "source": [
        "# Apply k-means clustering with 2 clusters first to get a sense of inertia score performance.\n",
        "from sklearn.cluster import KMeans\n",
        "kmeans = KMeans(n_clusters=2, random_state=0) \n",
        "kmeans.fit(fake_df_sc)\n",
        "kmeans.inertia_\n",
        "# Inertia: It is the sum of squared distances of samples to their closest cluster center, therefore the lower the score, the better the model is.\n",
        "# It means that we need to explore further to find a better k."
      ],
      "metadata": {
        "colab": {
          "base_uri": "https://localhost:8080/"
        },
        "id": "44x-FeNVnHj-",
        "outputId": "ddbeafaf-e117-4524-c1a6-071787edc8dc"
      },
      "execution_count": null,
      "outputs": [
        {
          "output_type": "stream",
          "name": "stderr",
          "text": [
            "/usr/local/lib/python3.7/dist-packages/sklearn/utils/validation.py:1692: FutureWarning: Feature names only support names that are all strings. Got feature names with dtypes: ['tuple']. An error will be raised in 1.2.\n",
            "  FutureWarning,\n"
          ]
        },
        {
          "output_type": "execute_result",
          "data": {
            "text/plain": [
              "585.9335576743993"
            ]
          },
          "metadata": {},
          "execution_count": 13
        }
      ]
    },
    {
      "cell_type": "code",
      "source": [
        "# Elbow method with inertia: loop through k= 2-40 to identify the most optimal number of clusters. \n",
        "from sklearn.cluster import KMeans\n",
        "scorelist = []\n",
        "for i in range(2,41):\n",
        "  kmeans = KMeans(n_clusters=i, random_state=0) \n",
        "  kmeans.fit(fake_df_sc)\n",
        "  scorelist.append(kmeans.inertia_)\n",
        "print(scorelist)\n",
        "# Visualization of the elbow method:\n",
        "plt.figure(figsize=(13,5)) \n",
        "plt.style.use(\"fivethirtyeight\")\n",
        "plt.plot(range(2, 41), scorelist)\n",
        "plt.xticks(range(2, 41))\n",
        "plt.xlabel(\"Number of Clusters\")\n",
        "plt.ylabel(\"SSE\")\n",
        "plt.show()\n",
        "# We know that there’s a trade-off because as K increases, inertia decreases, yet considering computational/training cost, \n",
        "# normally we would choose the point after which the inertia start decreasing in a linear pattern(9 or 10 in our case here). \n",
        "# But the inertia score is still high at around 10, given our dataset is quite small, we decide to try bigger k values \n",
        "# to get lower Inertia score. Finally, We decide to go with 20 and the computational time is acceptable."
      ],
      "metadata": {
        "colab": {
          "base_uri": "https://localhost:8080/",
          "height": 342
        },
        "id": "OZNHMaDPsla6",
        "outputId": "a76530d9-9765-4518-d65f-12d052c939fa"
      },
      "execution_count": null,
      "outputs": [
        {
          "output_type": "display_data",
          "data": {
            "text/plain": [
              "<Figure size 936x360 with 1 Axes>"
            ],
            "image/png": "[encoded data removed]"
          },
          "metadata": {
            "needs_background": "light"
          }
        }
      ]
    },
    {
      "cell_type": "code",
      "source": [
        "# Apply cluster=20\n",
        "kmeans = KMeans(n_clusters=20, random_state=0) \n",
        "result = kmeans.fit(fake_df_sc)\n",
        "y_pred = result.predict(fake_df_sc)\n",
        "y_pred.shape"
      ],
      "metadata": {
        "colab": {
          "base_uri": "https://localhost:8080/"
        },
        "id": "DQbImCFzsluk",
        "outputId": "553651f0-24e9-4da1-f819-dfafaffb7d99"
      },
      "execution_count": null,
      "outputs": [
        {
          "output_type": "stream",
          "name": "stderr",
          "text": [
            "/usr/local/lib/python3.7/dist-packages/sklearn/utils/validation.py:1692: FutureWarning: Feature names only support names that are all strings. Got feature names with dtypes: ['tuple']. An error will be raised in 1.2.\n",
            "  FutureWarning,\n",
            "/usr/local/lib/python3.7/dist-packages/sklearn/utils/validation.py:1692: FutureWarning: Feature names only support names that are all strings. Got feature names with dtypes: ['tuple']. An error will be raised in 1.2.\n",
            "  FutureWarning,\n"
          ]
        },
        {
          "output_type": "execute_result",
          "data": {
            "text/plain": [
              "(9459,)"
            ]
          },
          "metadata": {},
          "execution_count": 16
        }
      ]
    },
    {
      "cell_type": "code",
      "source": [
        "new_cluster_df = all_df.copy()\n",
        "new_cluster_df['cluster'] = y_pred\n",
        "new_cluster_df.head(2)"
      ],
      "metadata": {
        "colab": {
          "base_uri": "https://localhost:8080/",
          "height": 344
        },
        "id": "x7C1WNJ7sl1w",
        "outputId": "e4fda62a-82bd-4b76-eae4-c609b1e79bb3"
      },
      "execution_count": null,
      "outputs": [
        {
          "output_type": "execute_result",
          "data": {
            "text/plain": [
              "   recommendationid                                             author  \\\n",
              "0          13844852  {'steamid': '76561198108867118', 'num_games_ow...   \n",
              "1           9587132  {'steamid': '76561197998745774', 'num_games_ow...   \n",
              "\n",
              "  language                                             review  \\\n",
              "0  english                               THE BEST GAME EVER !   \n",
              "1  english  Ahhh.... Dota 2. This game is severaly unbalan...   \n",
              "\n",
              "   timestamp_created  timestamp_updated  voted_up  votes_up  votes_funny  \\\n",
              "0         1420449658         1420449658      True         5            0   \n",
              "1         1395437376         1609582255      True         5            2   \n",
              "\n",
              "   weighted_vote_score  ...  textblob_subjectivity  fake_no_digits  \\\n",
              "0             0.582656  ...                 0.3500               0   \n",
              "1             0.547834  ...                 0.3375               5   \n",
              "\n",
              "   fake_word_counts  fake_ratio_fp_words fake_ratio_uppercases  \\\n",
              "0                 5                0.000                 0.750   \n",
              "1               126                0.008                 0.024   \n",
              "\n",
              "  fake_punc_count  fake_short_wordcnt fake_ratio_numsymbol  \\\n",
              "0               1                   2                0.050   \n",
              "1              22                  42                0.038   \n",
              "\n",
              "  fake_extreme_polarity  cluster  \n",
              "0                 False        7  \n",
              "1                 False       12  \n",
              "\n",
              "[2 rows x 31 columns]"
            ],
            "text/html": [
              "\n",
              "  <div id=\"df-b105a987-64ab-4308-8326-e8843e7c58de\">\n",
              "    <div class=\"colab-df-container\">\n",
              "      <div>\n",
              "<style scoped>\n",
              "    .dataframe tbody tr th:only-of-type {\n",
              "        vertical-align: middle;\n",
              "    }\n",
              "\n",
              "    .dataframe tbody tr th {\n",
              "        vertical-align: top;\n",
              "    }\n",
              "\n",
              "    .dataframe thead th {\n",
              "        text-align: right;\n",
              "    }\n",
              "</style>\n",
              "<table border=\"1\" class=\"dataframe\">\n",
              "  <thead>\n",
              "    <tr style=\"text-align: right;\">\n",
              "      <th></th>\n",
              "      <th>recommendationid</th>\n",
              "      <th>author</th>\n",
              "      <th>language</th>\n",
              "      <th>review</th>\n",
              "      <th>timestamp_created</th>\n",
              "      <th>timestamp_updated</th>\n",
              "      <th>voted_up</th>\n",
              "      <th>votes_up</th>\n",
              "      <th>votes_funny</th>\n",
              "      <th>weighted_vote_score</th>\n",
              "      <th>...</th>\n",
              "      <th>textblob_subjectivity</th>\n",
              "      <th>fake_no_digits</th>\n",
              "      <th>fake_word_counts</th>\n",
              "      <th>fake_ratio_fp_words</th>\n",
              "      <th>fake_ratio_uppercases</th>\n",
              "      <th>fake_punc_count</th>\n",
              "      <th>fake_short_wordcnt</th>\n",
              "      <th>fake_ratio_numsymbol</th>\n",
              "      <th>fake_extreme_polarity</th>\n",
              "      <th>cluster</th>\n",
              "    </tr>\n",
              "  </thead>\n",
              "  <tbody>\n",
              "    <tr>\n",
              "      <th>0</th>\n",
              "      <td>13844852</td>\n",
              "      <td>{'steamid': '76561198108867118', 'num_games_ow...</td>\n",
              "      <td>english</td>\n",
              "      <td>THE BEST GAME EVER !</td>\n",
              "      <td>1420449658</td>\n",
              "      <td>1420449658</td>\n",
              "      <td>True</td>\n",
              "      <td>5</td>\n",
              "      <td>0</td>\n",
              "      <td>0.582656</td>\n",
              "      <td>...</td>\n",
              "      <td>0.3500</td>\n",
              "      <td>0</td>\n",
              "      <td>5</td>\n",
              "      <td>0.000</td>\n",
              "      <td>0.750</td>\n",
              "      <td>1</td>\n",
              "      <td>2</td>\n",
              "      <td>0.050</td>\n",
              "      <td>False</td>\n",
              "      <td>7</td>\n",
              "    </tr>\n",
              "    <tr>\n",
              "      <th>1</th>\n",
              "      <td>9587132</td>\n",
              "      <td>{'steamid': '76561197998745774', 'num_games_ow...</td>\n",
              "      <td>english</td>\n",
              "      <td>Ahhh.... Dota 2. This game is severaly unbalan...</td>\n",
              "      <td>1395437376</td>\n",
              "      <td>1609582255</td>\n",
              "      <td>True</td>\n",
              "      <td>5</td>\n",
              "      <td>2</td>\n",
              "      <td>0.547834</td>\n",
              "      <td>...</td>\n",
              "      <td>0.3375</td>\n",
              "      <td>5</td>\n",
              "      <td>126</td>\n",
              "      <td>0.008</td>\n",
              "      <td>0.024</td>\n",
              "      <td>22</td>\n",
              "      <td>42</td>\n",
              "      <td>0.038</td>\n",
              "      <td>False</td>\n",
              "      <td>12</td>\n",
              "    </tr>\n",
              "  </tbody>\n",
              "</table>\n",
              "<p>2 rows × 31 columns</p>\n",
              "</div>\n",
              "      <button class=\"colab-df-convert\" onclick=\"convertToInteractive('df-b105a987-64ab-4308-8326-e8843e7c58de')\"\n",
              "              title=\"Convert this dataframe to an interactive table.\"\n",
              "              style=\"display:none;\">\n",
              "        \n",
              "  <svg xmlns=\"http://www.w3.org/2000/svg\" height=\"24px\"viewBox=\"0 0 24 24\"\n",
              "       width=\"24px\">\n",
              "    <path d=\"M0 0h24v24H0V0z\" fill=\"none\"/>\n",
              "    <path d=\"M18.56 5.44l.94 2.06.94-2.06 2.06-.94-2.06-.94-.94-2.06-.94 2.06-2.06.94zm-11 1L8.5 8.5l.94-2.06 2.06-.94-2.06-.94L8.5 2.5l-.94 2.06-2.06.94zm10 10l.94 2.06.94-2.06 2.06-.94-2.06-.94-.94-2.06-.94 2.06-2.06.94z\"/><path d=\"M17.41 7.96l-1.37-1.37c-.4-.4-.92-.59-1.43-.59-.52 0-1.04.2-1.43.59L10.3 9.45l-7.72 7.72c-.78.78-.78 2.05 0 2.83L4 21.41c.39.39.9.59 1.41.59.51 0 1.02-.2 1.41-.59l7.78-7.78 2.81-2.81c.8-.78.8-2.07 0-2.86zM5.41 20L4 18.59l7.72-7.72 1.47 1.35L5.41 20z\"/>\n",
              "  </svg>\n",
              "      </button>\n",
              "      \n",
              "  <style>\n",
              "    .colab-df-container {\n",
              "      display:flex;\n",
              "      flex-wrap:wrap;\n",
              "      gap: 12px;\n",
              "    }\n",
              "\n",
              "    .colab-df-convert {\n",
              "      background-color: #E8F0FE;\n",
              "      border: none;\n",
              "      border-radius: 50%;\n",
              "      cursor: pointer;\n",
              "      display: none;\n",
              "      fill: #1967D2;\n",
              "      height: 32px;\n",
              "      padding: 0 0 0 0;\n",
              "      width: 32px;\n",
              "    }\n",
              "\n",
              "    .colab-df-convert:hover {\n",
              "      background-color: #E2EBFA;\n",
              "      box-shadow: 0px 1px 2px rgba(60, 64, 67, 0.3), 0px 1px 3px 1px rgba(60, 64, 67, 0.15);\n",
              "      fill: #174EA6;\n",
              "    }\n",
              "\n",
              "    [theme=dark] .colab-df-convert {\n",
              "      background-color: #3B4455;\n",
              "      fill: #D2E3FC;\n",
              "    }\n",
              "\n",
              "    [theme=dark] .colab-df-convert:hover {\n",
              "      background-color: #434B5C;\n",
              "      box-shadow: 0px 1px 3px 1px rgba(0, 0, 0, 0.15);\n",
              "      filter: drop-shadow(0px 1px 2px rgba(0, 0, 0, 0.3));\n",
              "      fill: #FFFFFF;\n",
              "    }\n",
              "  </style>\n",
              "\n",
              "      <script>\n",
              "        const buttonEl =\n",
              "          document.querySelector('#df-b105a987-64ab-4308-8326-e8843e7c58de button.colab-df-convert');\n",
              "        buttonEl.style.display =\n",
              "          google.colab.kernel.accessAllowed ? 'block' : 'none';\n",
              "\n",
              "        async function convertToInteractive(key) {\n",
              "          const element = document.querySelector('#df-b105a987-64ab-4308-8326-e8843e7c58de');\n",
              "          const dataTable =\n",
              "            await google.colab.kernel.invokeFunction('convertToInteractive',\n",
              "                                                     [key], {});\n",
              "          if (!dataTable) return;\n",
              "\n",
              "          const docLinkHtml = 'Like what you see? Visit the ' +\n",
              "            '<a target=\"_blank\" href=https://colab.research.google.com/notebooks/data_table.ipynb>data table notebook</a>'\n",
              "            + ' to learn more about interactive tables.';\n",
              "          element.innerHTML = '';\n",
              "          dataTable['output_type'] = 'display_data';\n",
              "          await google.colab.output.renderOutput(dataTable, element);\n",
              "          const docLink = document.createElement('div');\n",
              "          docLink.innerHTML = docLinkHtml;\n",
              "          element.appendChild(docLink);\n",
              "        }\n",
              "      </script>\n",
              "    </div>\n",
              "  </div>\n",
              "  "
            ]
          },
          "metadata": {},
          "execution_count": 26
        }
      ]
    },
    {
      "cell_type": "markdown",
      "source": [
        "### Part II. Supervised model with manual labeling\n",
        "1. **How we hand-label fake reviews**\n",
        "\n",
        "In order to detect fake review with supervised model, we hand-label 700 reviews using below criteria:\n",
        "- Ratio of digit in each review >=80%\n",
        "- The length of review tokens <=4\n",
        "- Ratio of total number of first-person words >=1.8%\n",
        "- Ratio of total number of uppercase letters >=8.8%\n",
        "- Ratio of number of punctuation symbols >=17.89%\n",
        "- Ratio number of short words (less than 3 letters) >37.31%\n",
        "- Ratio of total number of digits and symbols >4.31%\n",
        "\n",
        "After hand-labeling, 38.5% of all reviews are considered \"fake\" in 700 reviews.\n",
        "\n",
        "2. **Model selection:** \n",
        "For fake review prediction, we decide to apply KNN model since our labeled dataset is small and with less features and noise. KNN model performs better with this condition. "
      ],
      "metadata": {
        "id": "C0Gayi9dAGeA"
      }
    },
    {
      "cell_type": "code",
      "source": [
        " # Load our hand-label data\n",
        " df_ex = pd.read_csv('/content/gdrive/MyDrive/IMT547/LABELED_dota2_10k_toxcity_sentiment_fake_cluster - LABELED_dota2_10k_toxcity_sentiment_fake_cluster - LABELED_dota2_10k_toxcity_sentiment_fake_cluster - LABELED_dota2_10k_toxcity_sentiment_fake_cluster.csv')\n",
        " del df_ex['note']\n",
        "df_ex.head()"
      ],
      "metadata": {
        "id": "8y8oqmWb6NzG",
        "colab": {
          "base_uri": "https://localhost:8080/",
          "height": 681
        },
        "outputId": "1304cf29-dd90-43b1-a69b-d3cae2a40a6f"
      },
      "execution_count": null,
      "outputs": [
        {
          "output_type": "execute_result",
          "data": {
            "text/plain": [
              "   recommendationid                                             author  \\\n",
              "0        13844852.0  {'steamid': '76561198108867118', 'num_games_ow...   \n",
              "1         9587132.0  {'steamid': '76561197998745774', 'num_games_ow...   \n",
              "2         8744049.0  {'steamid': '76561198058224607', 'num_games_ow...   \n",
              "3        55163678.0  {'steamid': '76561198004052055', 'num_games_ow...   \n",
              "4        90931618.0  {'steamid': '76561198074657533', 'num_games_ow...   \n",
              "\n",
              "  language                                             review  \\\n",
              "0  english                               THE BEST GAME EVER !   \n",
              "1  english  Ahhh.... Dota 2. This game is severaly unbalan...   \n",
              "2  english  hard to learn, inpossible to master, yet its s...   \n",
              "3  english                   Boring and full of stupid people   \n",
              "4  english  Ive played over 1300 hours at this game, and i...   \n",
              "\n",
              "   timestamp_created  timestamp_updated voted_up  votes_up  votes_funny  \\\n",
              "0       1.420450e+09       1.420450e+09     True       5.0          0.0   \n",
              "1       1.395437e+09       1.609582e+09     True       5.0          2.0   \n",
              "2       1.389990e+09       1.389990e+09     True       3.0          0.0   \n",
              "3       1.568775e+09       1.568775e+09    False       6.0          0.0   \n",
              "4       1.619406e+09       1.619406e+09     True       1.0          0.0   \n",
              "\n",
              "   weighted_vote_score  ...  fake_ratio_fp_words fake_ratio_uppercases  \\\n",
              "0             0.582656  ...                0.000                 0.750   \n",
              "1             0.547834  ...                0.008                 0.024   \n",
              "2             0.550048  ...                0.000                 0.009   \n",
              "3             0.544656  ...                0.000                 0.031   \n",
              "4             0.523810  ...                0.071                 0.015   \n",
              "\n",
              "  fake_punc_count fake_punc_count % fake_short_wordcnt fake_short_wordcnt %  \\\n",
              "0               1            0.2000                2.0               0.4000   \n",
              "1              22            0.1746               42.0               0.3333   \n",
              "2               3            0.1500               10.0               0.5000   \n",
              "3               0            0.0000                2.0               0.3333   \n",
              "4               2            0.1429                6.0               0.4286   \n",
              "\n",
              "   fake_ratio_numsymbol fake_extreme_polarity cluster  is_fake  \n",
              "0                 0.050                 False     7.0      1.0  \n",
              "1                 0.038                 False    12.0      0.0  \n",
              "2                 0.028                 False     2.0      0.0  \n",
              "3                 0.000                  True    18.0      0.0  \n",
              "4                 0.091                  True    18.0      0.0  \n",
              "\n",
              "[5 rows x 35 columns]"
            ],
            "text/html": [
              "\n",
              "  <div id=\"df-db62ae95-5d1d-4441-b5b3-c4d227c29a20\">\n",
              "    <div class=\"colab-df-container\">\n",
              "      <div>\n",
              "<style scoped>\n",
              "    .dataframe tbody tr th:only-of-type {\n",
              "        vertical-align: middle;\n",
              "    }\n",
              "\n",
              "    .dataframe tbody tr th {\n",
              "        vertical-align: top;\n",
              "    }\n",
              "\n",
              "    .dataframe thead th {\n",
              "        text-align: right;\n",
              "    }\n",
              "</style>\n",
              "<table border=\"1\" class=\"dataframe\">\n",
              "  <thead>\n",
              "    <tr style=\"text-align: right;\">\n",
              "      <th></th>\n",
              "      <th>recommendationid</th>\n",
              "      <th>author</th>\n",
              "      <th>language</th>\n",
              "      <th>review</th>\n",
              "      <th>timestamp_created</th>\n",
              "      <th>timestamp_updated</th>\n",
              "      <th>voted_up</th>\n",
              "      <th>votes_up</th>\n",
              "      <th>votes_funny</th>\n",
              "      <th>weighted_vote_score</th>\n",
              "      <th>...</th>\n",
              "      <th>fake_ratio_fp_words</th>\n",
              "      <th>fake_ratio_uppercases</th>\n",
              "      <th>fake_punc_count</th>\n",
              "      <th>fake_punc_count %</th>\n",
              "      <th>fake_short_wordcnt</th>\n",
              "      <th>fake_short_wordcnt %</th>\n",
              "      <th>fake_ratio_numsymbol</th>\n",
              "      <th>fake_extreme_polarity</th>\n",
              "      <th>cluster</th>\n",
              "      <th>is_fake</th>\n",
              "    </tr>\n",
              "  </thead>\n",
              "  <tbody>\n",
              "    <tr>\n",
              "      <th>0</th>\n",
              "      <td>13844852.0</td>\n",
              "      <td>{'steamid': '76561198108867118', 'num_games_ow...</td>\n",
              "      <td>english</td>\n",
              "      <td>THE BEST GAME EVER !</td>\n",
              "      <td>1.420450e+09</td>\n",
              "      <td>1.420450e+09</td>\n",
              "      <td>True</td>\n",
              "      <td>5.0</td>\n",
              "      <td>0.0</td>\n",
              "      <td>0.582656</td>\n",
              "      <td>...</td>\n",
              "      <td>0.000</td>\n",
              "      <td>0.750</td>\n",
              "      <td>1</td>\n",
              "      <td>0.2000</td>\n",
              "      <td>2.0</td>\n",
              "      <td>0.4000</td>\n",
              "      <td>0.050</td>\n",
              "      <td>False</td>\n",
              "      <td>7.0</td>\n",
              "      <td>1.0</td>\n",
              "    </tr>\n",
              "    <tr>\n",
              "      <th>1</th>\n",
              "      <td>9587132.0</td>\n",
              "      <td>{'steamid': '76561197998745774', 'num_games_ow...</td>\n",
              "      <td>english</td>\n",
              "      <td>Ahhh.... Dota 2. This game is severaly unbalan...</td>\n",
              "      <td>1.395437e+09</td>\n",
              "      <td>1.609582e+09</td>\n",
              "      <td>True</td>\n",
              "      <td>5.0</td>\n",
              "      <td>2.0</td>\n",
              "      <td>0.547834</td>\n",
              "      <td>...</td>\n",
              "      <td>0.008</td>\n",
              "      <td>0.024</td>\n",
              "      <td>22</td>\n",
              "      <td>0.1746</td>\n",
              "      <td>42.0</td>\n",
              "      <td>0.3333</td>\n",
              "      <td>0.038</td>\n",
              "      <td>False</td>\n",
              "      <td>12.0</td>\n",
              "      <td>0.0</td>\n",
              "    </tr>\n",
              "    <tr>\n",
              "      <th>2</th>\n",
              "      <td>8744049.0</td>\n",
              "      <td>{'steamid': '76561198058224607', 'num_games_ow...</td>\n",
              "      <td>english</td>\n",
              "      <td>hard to learn, inpossible to master, yet its s...</td>\n",
              "      <td>1.389990e+09</td>\n",
              "      <td>1.389990e+09</td>\n",
              "      <td>True</td>\n",
              "      <td>3.0</td>\n",
              "      <td>0.0</td>\n",
              "      <td>0.550048</td>\n",
              "      <td>...</td>\n",
              "      <td>0.000</td>\n",
              "      <td>0.009</td>\n",
              "      <td>3</td>\n",
              "      <td>0.1500</td>\n",
              "      <td>10.0</td>\n",
              "      <td>0.5000</td>\n",
              "      <td>0.028</td>\n",
              "      <td>False</td>\n",
              "      <td>2.0</td>\n",
              "      <td>0.0</td>\n",
              "    </tr>\n",
              "    <tr>\n",
              "      <th>3</th>\n",
              "      <td>55163678.0</td>\n",
              "      <td>{'steamid': '76561198004052055', 'num_games_ow...</td>\n",
              "      <td>english</td>\n",
              "      <td>Boring and full of stupid people</td>\n",
              "      <td>1.568775e+09</td>\n",
              "      <td>1.568775e+09</td>\n",
              "      <td>False</td>\n",
              "      <td>6.0</td>\n",
              "      <td>0.0</td>\n",
              "      <td>0.544656</td>\n",
              "      <td>...</td>\n",
              "      <td>0.000</td>\n",
              "      <td>0.031</td>\n",
              "      <td>0</td>\n",
              "      <td>0.0000</td>\n",
              "      <td>2.0</td>\n",
              "      <td>0.3333</td>\n",
              "      <td>0.000</td>\n",
              "      <td>True</td>\n",
              "      <td>18.0</td>\n",
              "      <td>0.0</td>\n",
              "    </tr>\n",
              "    <tr>\n",
              "      <th>4</th>\n",
              "      <td>90931618.0</td>\n",
              "      <td>{'steamid': '76561198074657533', 'num_games_ow...</td>\n",
              "      <td>english</td>\n",
              "      <td>Ive played over 1300 hours at this game, and i...</td>\n",
              "      <td>1.619406e+09</td>\n",
              "      <td>1.619406e+09</td>\n",
              "      <td>True</td>\n",
              "      <td>1.0</td>\n",
              "      <td>0.0</td>\n",
              "      <td>0.523810</td>\n",
              "      <td>...</td>\n",
              "      <td>0.071</td>\n",
              "      <td>0.015</td>\n",
              "      <td>2</td>\n",
              "      <td>0.1429</td>\n",
              "      <td>6.0</td>\n",
              "      <td>0.4286</td>\n",
              "      <td>0.091</td>\n",
              "      <td>True</td>\n",
              "      <td>18.0</td>\n",
              "      <td>0.0</td>\n",
              "    </tr>\n",
              "  </tbody>\n",
              "</table>\n",
              "<p>5 rows × 35 columns</p>\n",
              "</div>\n",
              "      <button class=\"colab-df-convert\" onclick=\"convertToInteractive('df-db62ae95-5d1d-4441-b5b3-c4d227c29a20')\"\n",
              "              title=\"Convert this dataframe to an interactive table.\"\n",
              "              style=\"display:none;\">\n",
              "        \n",
              "  <svg xmlns=\"http://www.w3.org/2000/svg\" height=\"24px\"viewBox=\"0 0 24 24\"\n",
              "       width=\"24px\">\n",
              "    <path d=\"M0 0h24v24H0V0z\" fill=\"none\"/>\n",
              "    <path d=\"M18.56 5.44l.94 2.06.94-2.06 2.06-.94-2.06-.94-.94-2.06-.94 2.06-2.06.94zm-11 1L8.5 8.5l.94-2.06 2.06-.94-2.06-.94L8.5 2.5l-.94 2.06-2.06.94zm10 10l.94 2.06.94-2.06 2.06-.94-2.06-.94-.94-2.06-.94 2.06-2.06.94z\"/><path d=\"M17.41 7.96l-1.37-1.37c-.4-.4-.92-.59-1.43-.59-.52 0-1.04.2-1.43.59L10.3 9.45l-7.72 7.72c-.78.78-.78 2.05 0 2.83L4 21.41c.39.39.9.59 1.41.59.51 0 1.02-.2 1.41-.59l7.78-7.78 2.81-2.81c.8-.78.8-2.07 0-2.86zM5.41 20L4 18.59l7.72-7.72 1.47 1.35L5.41 20z\"/>\n",
              "  </svg>\n",
              "      </button>\n",
              "      \n",
              "  <style>\n",
              "    .colab-df-container {\n",
              "      display:flex;\n",
              "      flex-wrap:wrap;\n",
              "      gap: 12px;\n",
              "    }\n",
              "\n",
              "    .colab-df-convert {\n",
              "      background-color: #E8F0FE;\n",
              "      border: none;\n",
              "      border-radius: 50%;\n",
              "      cursor: pointer;\n",
              "      display: none;\n",
              "      fill: #1967D2;\n",
              "      height: 32px;\n",
              "      padding: 0 0 0 0;\n",
              "      width: 32px;\n",
              "    }\n",
              "\n",
              "    .colab-df-convert:hover {\n",
              "      background-color: #E2EBFA;\n",
              "      box-shadow: 0px 1px 2px rgba(60, 64, 67, 0.3), 0px 1px 3px 1px rgba(60, 64, 67, 0.15);\n",
              "      fill: #174EA6;\n",
              "    }\n",
              "\n",
              "    [theme=dark] .colab-df-convert {\n",
              "      background-color: #3B4455;\n",
              "      fill: #D2E3FC;\n",
              "    }\n",
              "\n",
              "    [theme=dark] .colab-df-convert:hover {\n",
              "      background-color: #434B5C;\n",
              "      box-shadow: 0px 1px 3px 1px rgba(0, 0, 0, 0.15);\n",
              "      filter: drop-shadow(0px 1px 2px rgba(0, 0, 0, 0.3));\n",
              "      fill: #FFFFFF;\n",
              "    }\n",
              "  </style>\n",
              "\n",
              "      <script>\n",
              "        const buttonEl =\n",
              "          document.querySelector('#df-db62ae95-5d1d-4441-b5b3-c4d227c29a20 button.colab-df-convert');\n",
              "        buttonEl.style.display =\n",
              "          google.colab.kernel.accessAllowed ? 'block' : 'none';\n",
              "\n",
              "        async function convertToInteractive(key) {\n",
              "          const element = document.querySelector('#df-db62ae95-5d1d-4441-b5b3-c4d227c29a20');\n",
              "          const dataTable =\n",
              "            await google.colab.kernel.invokeFunction('convertToInteractive',\n",
              "                                                     [key], {});\n",
              "          if (!dataTable) return;\n",
              "\n",
              "          const docLinkHtml = 'Like what you see? Visit the ' +\n",
              "            '<a target=\"_blank\" href=https://colab.research.google.com/notebooks/data_table.ipynb>data table notebook</a>'\n",
              "            + ' to learn more about interactive tables.';\n",
              "          element.innerHTML = '';\n",
              "          dataTable['output_type'] = 'display_data';\n",
              "          await google.colab.output.renderOutput(dataTable, element);\n",
              "          const docLink = document.createElement('div');\n",
              "          docLink.innerHTML = docLinkHtml;\n",
              "          element.appendChild(docLink);\n",
              "        }\n",
              "      </script>\n",
              "    </div>\n",
              "  </div>\n",
              "  "
            ]
          },
          "metadata": {},
          "execution_count": 98
        }
      ]
    },
    {
      "cell_type": "code",
      "source": [
        "# 0= counts of review we consider normal, 1= counts of review we consider fake\n",
        "df_ex['is_fake'].value_counts()"
      ],
      "metadata": {
        "colab": {
          "base_uri": "https://localhost:8080/"
        },
        "id": "FHq4fLUVXaB2",
        "outputId": "6e800779-a66d-4da4-fcce-02d02df8d2ba"
      },
      "execution_count": null,
      "outputs": [
        {
          "output_type": "execute_result",
          "data": {
            "text/plain": [
              "0.0    430\n",
              "1.0    270\n",
              "Name: is_fake, dtype: int64"
            ]
          },
          "metadata": {},
          "execution_count": 34
        }
      ]
    },
    {
      "cell_type": "code",
      "source": [
        "# Visually shows our distribution of fake/non-fake reviews.\n",
        "plott = (df_ex['is_fake'].value_counts()).to_frame().reset_index()\n",
        "sns.barplot(x='index',y='is_fake',data=plott)"
      ],
      "metadata": {
        "colab": {
          "base_uri": "https://localhost:8080/",
          "height": 297
        },
        "id": "kaOXqVKRa832",
        "outputId": "875fadbb-39ea-4abb-c95f-7adc2391b98e"
      },
      "execution_count": null,
      "outputs": [
        {
          "output_type": "execute_result",
          "data": {
            "text/plain": [
              "<matplotlib.axes._subplots.AxesSubplot at 0x7fbc5e86b950>"
            ]
          },
          "metadata": {},
          "execution_count": 108
        },
        {
          "output_type": "display_data",
          "data": {
            "text/plain": [
              "<Figure size 432x288 with 1 Axes>"
            ],
            "image/png": "[encoded data removed]"
          },
          "metadata": {
            "needs_background": "light"
          }
        }
      ]
    },
    {
      "cell_type": "code",
      "source": [
        "df_ex.columns"
      ],
      "metadata": {
        "colab": {
          "base_uri": "https://localhost:8080/"
        },
        "id": "O0mYWlAdVAxA",
        "outputId": "300c0e60-a8f2-4a59-d3d8-e8ae68a66658"
      },
      "execution_count": null,
      "outputs": [
        {
          "output_type": "execute_result",
          "data": {
            "text/plain": [
              "Index(['recommendationid', 'author', 'language', 'review', 'timestamp_created',\n",
              "       'timestamp_updated', 'voted_up', 'votes_up', 'votes_funny',\n",
              "       'weighted_vote_score', 'comment_count', 'steam_purchase',\n",
              "       'received_for_free', 'written_during_early_access', 'time_created',\n",
              "       'clean_review', 'toxicity_perspective', 'vader', 'vader_compound',\n",
              "       'vader_com', 'textblob_polarity', 'textblob_subjectivity',\n",
              "       'fake_no_digits', 'fake_no_digits %', 'fake_word_counts',\n",
              "       'fake_ratio_fp_words', 'fake_ratio_uppercases', 'fake_punc_count',\n",
              "       'fake_punc_count %', 'fake_short_wordcnt', 'fake_short_wordcnt %',\n",
              "       'fake_ratio_numsymbol', 'fake_extreme_polarity', 'cluster', 'is_fake'],\n",
              "      dtype='object')"
            ]
          },
          "metadata": {},
          "execution_count": 35
        }
      ]
    },
    {
      "cell_type": "code",
      "source": [
        "# Preparation for KNN 1-- Relevant Feature selection\n",
        "df_knn = df_ex.drop(columns=['recommendationid', 'author', 'language', 'review', 'timestamp_created', 'timestamp_updated', 'time_created',\n",
        "                             'clean_review', 'vader','vader_compound','fake_no_digits %','fake_punc_count %','fake_short_wordcnt %'])\n",
        "df_knn.head(２)"
      ],
      "metadata": {
        "id": "v0wAhf6aT6sb",
        "colab": {
          "base_uri": "https://localhost:8080/",
          "height": 205
        },
        "outputId": "264fb409-7ca3-4f05-e150-b56bc788aa79"
      },
      "execution_count": null,
      "outputs": [
        {
          "output_type": "execute_result",
          "data": {
            "text/plain": [
              "  voted_up  votes_up  votes_funny  weighted_vote_score  comment_count  \\\n",
              "0     True       5.0          0.0             0.582656            0.0   \n",
              "1     True       5.0          2.0             0.547834            0.0   \n",
              "\n",
              "  steam_purchase received_for_free written_during_early_access  \\\n",
              "0          False             False                       False   \n",
              "1          False             False                       False   \n",
              "\n",
              "   toxicity_perspective  vader_com  ...  fake_no_digits  fake_word_counts  \\\n",
              "0              0.028439     0.6369  ...             0.0               5.0   \n",
              "1              0.655660    -0.8005  ...             5.0             126.0   \n",
              "\n",
              "   fake_ratio_fp_words  fake_ratio_uppercases  fake_punc_count  \\\n",
              "0                0.000                  0.750                1   \n",
              "1                0.008                  0.024               22   \n",
              "\n",
              "   fake_short_wordcnt  fake_ratio_numsymbol  fake_extreme_polarity  cluster  \\\n",
              "0                 2.0                 0.050                  False      7.0   \n",
              "1                42.0                 0.038                  False     12.0   \n",
              "\n",
              "  is_fake  \n",
              "0     1.0  \n",
              "1     0.0  \n",
              "\n",
              "[2 rows x 22 columns]"
            ],
            "text/html": [
              "\n",
              "  <div id=\"df-170d2b14-da16-40b9-97bc-43aea4ccca76\">\n",
              "    <div class=\"colab-df-container\">\n",
              "      <div>\n",
              "<style scoped>\n",
              "    .dataframe tbody tr th:only-of-type {\n",
              "        vertical-align: middle;\n",
              "    }\n",
              "\n",
              "    .dataframe tbody tr th {\n",
              "        vertical-align: top;\n",
              "    }\n",
              "\n",
              "    .dataframe thead th {\n",
              "        text-align: right;\n",
              "    }\n",
              "</style>\n",
              "<table border=\"1\" class=\"dataframe\">\n",
              "  <thead>\n",
              "    <tr style=\"text-align: right;\">\n",
              "      <th></th>\n",
              "      <th>voted_up</th>\n",
              "      <th>votes_up</th>\n",
              "      <th>votes_funny</th>\n",
              "      <th>weighted_vote_score</th>\n",
              "      <th>comment_count</th>\n",
              "      <th>steam_purchase</th>\n",
              "      <th>received_for_free</th>\n",
              "      <th>written_during_early_access</th>\n",
              "      <th>toxicity_perspective</th>\n",
              "      <th>vader_com</th>\n",
              "      <th>...</th>\n",
              "      <th>fake_no_digits</th>\n",
              "      <th>fake_word_counts</th>\n",
              "      <th>fake_ratio_fp_words</th>\n",
              "      <th>fake_ratio_uppercases</th>\n",
              "      <th>fake_punc_count</th>\n",
              "      <th>fake_short_wordcnt</th>\n",
              "      <th>fake_ratio_numsymbol</th>\n",
              "      <th>fake_extreme_polarity</th>\n",
              "      <th>cluster</th>\n",
              "      <th>is_fake</th>\n",
              "    </tr>\n",
              "  </thead>\n",
              "  <tbody>\n",
              "    <tr>\n",
              "      <th>0</th>\n",
              "      <td>True</td>\n",
              "      <td>5.0</td>\n",
              "      <td>0.0</td>\n",
              "      <td>0.582656</td>\n",
              "      <td>0.0</td>\n",
              "      <td>False</td>\n",
              "      <td>False</td>\n",
              "      <td>False</td>\n",
              "      <td>0.028439</td>\n",
              "      <td>0.6369</td>\n",
              "      <td>...</td>\n",
              "      <td>0.0</td>\n",
              "      <td>5.0</td>\n",
              "      <td>0.000</td>\n",
              "      <td>0.750</td>\n",
              "      <td>1</td>\n",
              "      <td>2.0</td>\n",
              "      <td>0.050</td>\n",
              "      <td>False</td>\n",
              "      <td>7.0</td>\n",
              "      <td>1.0</td>\n",
              "    </tr>\n",
              "    <tr>\n",
              "      <th>1</th>\n",
              "      <td>True</td>\n",
              "      <td>5.0</td>\n",
              "      <td>2.0</td>\n",
              "      <td>0.547834</td>\n",
              "      <td>0.0</td>\n",
              "      <td>False</td>\n",
              "      <td>False</td>\n",
              "      <td>False</td>\n",
              "      <td>0.655660</td>\n",
              "      <td>-0.8005</td>\n",
              "      <td>...</td>\n",
              "      <td>5.0</td>\n",
              "      <td>126.0</td>\n",
              "      <td>0.008</td>\n",
              "      <td>0.024</td>\n",
              "      <td>22</td>\n",
              "      <td>42.0</td>\n",
              "      <td>0.038</td>\n",
              "      <td>False</td>\n",
              "      <td>12.0</td>\n",
              "      <td>0.0</td>\n",
              "    </tr>\n",
              "  </tbody>\n",
              "</table>\n",
              "<p>2 rows × 22 columns</p>\n",
              "</div>\n",
              "      <button class=\"colab-df-convert\" onclick=\"convertToInteractive('df-170d2b14-da16-40b9-97bc-43aea4ccca76')\"\n",
              "              title=\"Convert this dataframe to an interactive table.\"\n",
              "              style=\"display:none;\">\n",
              "        \n",
              "  <svg xmlns=\"http://www.w3.org/2000/svg\" height=\"24px\"viewBox=\"0 0 24 24\"\n",
              "       width=\"24px\">\n",
              "    <path d=\"M0 0h24v24H0V0z\" fill=\"none\"/>\n",
              "    <path d=\"M18.56 5.44l.94 2.06.94-2.06 2.06-.94-2.06-.94-.94-2.06-.94 2.06-2.06.94zm-11 1L8.5 8.5l.94-2.06 2.06-.94-2.06-.94L8.5 2.5l-.94 2.06-2.06.94zm10 10l.94 2.06.94-2.06 2.06-.94-2.06-.94-.94-2.06-.94 2.06-2.06.94z\"/><path d=\"M17.41 7.96l-1.37-1.37c-.4-.4-.92-.59-1.43-.59-.52 0-1.04.2-1.43.59L10.3 9.45l-7.72 7.72c-.78.78-.78 2.05 0 2.83L4 21.41c.39.39.9.59 1.41.59.51 0 1.02-.2 1.41-.59l7.78-7.78 2.81-2.81c.8-.78.8-2.07 0-2.86zM5.41 20L4 18.59l7.72-7.72 1.47 1.35L5.41 20z\"/>\n",
              "  </svg>\n",
              "      </button>\n",
              "      \n",
              "  <style>\n",
              "    .colab-df-container {\n",
              "      display:flex;\n",
              "      flex-wrap:wrap;\n",
              "      gap: 12px;\n",
              "    }\n",
              "\n",
              "    .colab-df-convert {\n",
              "      background-color: #E8F0FE;\n",
              "      border: none;\n",
              "      border-radius: 50%;\n",
              "      cursor: pointer;\n",
              "      display: none;\n",
              "      fill: #1967D2;\n",
              "      height: 32px;\n",
              "      padding: 0 0 0 0;\n",
              "      width: 32px;\n",
              "    }\n",
              "\n",
              "    .colab-df-convert:hover {\n",
              "      background-color: #E2EBFA;\n",
              "      box-shadow: 0px 1px 2px rgba(60, 64, 67, 0.3), 0px 1px 3px 1px rgba(60, 64, 67, 0.15);\n",
              "      fill: #174EA6;\n",
              "    }\n",
              "\n",
              "    [theme=dark] .colab-df-convert {\n",
              "      background-color: #3B4455;\n",
              "      fill: #D2E3FC;\n",
              "    }\n",
              "\n",
              "    [theme=dark] .colab-df-convert:hover {\n",
              "      background-color: #434B5C;\n",
              "      box-shadow: 0px 1px 3px 1px rgba(0, 0, 0, 0.15);\n",
              "      filter: drop-shadow(0px 1px 2px rgba(0, 0, 0, 0.3));\n",
              "      fill: #FFFFFF;\n",
              "    }\n",
              "  </style>\n",
              "\n",
              "      <script>\n",
              "        const buttonEl =\n",
              "          document.querySelector('#df-170d2b14-da16-40b9-97bc-43aea4ccca76 button.colab-df-convert');\n",
              "        buttonEl.style.display =\n",
              "          google.colab.kernel.accessAllowed ? 'block' : 'none';\n",
              "\n",
              "        async function convertToInteractive(key) {\n",
              "          const element = document.querySelector('#df-170d2b14-da16-40b9-97bc-43aea4ccca76');\n",
              "          const dataTable =\n",
              "            await google.colab.kernel.invokeFunction('convertToInteractive',\n",
              "                                                     [key], {});\n",
              "          if (!dataTable) return;\n",
              "\n",
              "          const docLinkHtml = 'Like what you see? Visit the ' +\n",
              "            '<a target=\"_blank\" href=https://colab.research.google.com/notebooks/data_table.ipynb>data table notebook</a>'\n",
              "            + ' to learn more about interactive tables.';\n",
              "          element.innerHTML = '';\n",
              "          dataTable['output_type'] = 'display_data';\n",
              "          await google.colab.output.renderOutput(dataTable, element);\n",
              "          const docLink = document.createElement('div');\n",
              "          docLink.innerHTML = docLinkHtml;\n",
              "          element.appendChild(docLink);\n",
              "        }\n",
              "      </script>\n",
              "    </div>\n",
              "  </div>\n",
              "  "
            ]
          },
          "metadata": {},
          "execution_count": 36
        }
      ]
    },
    {
      "cell_type": "code",
      "source": [
        "# Preparation for KNN 2-- turn (True,False) to (0,1) \n",
        "\n",
        "le = LabelEncoder()\n",
        "df_knn['voted_up'] = le.fit_transform(df_knn['voted_up'])\n",
        "df_knn['received_for_free'] = le.fit_transform(df_knn['received_for_free'])\n",
        "df_knn['written_during_early_access'] = le.fit_transform(df_knn['written_during_early_access'])\n",
        "df_knn['fake_extreme_polarity'] = le.fit_transform(df_knn['fake_extreme_polarity'])\n",
        "df_knn['steam_purchase'] = le.fit_transform(df_knn['steam_purchase'])\n",
        "df_knn.head(2)"
      ],
      "metadata": {
        "id": "QZEy4HHcB1A1",
        "colab": {
          "base_uri": "https://localhost:8080/",
          "height": 205
        },
        "outputId": "fb6339ce-896b-46a5-b433-71ca5f84c040"
      },
      "execution_count": null,
      "outputs": [
        {
          "output_type": "execute_result",
          "data": {
            "text/plain": [
              "   voted_up  votes_up  votes_funny  weighted_vote_score  comment_count  \\\n",
              "0         1       5.0          0.0             0.582656            0.0   \n",
              "1         1       5.0          2.0             0.547834            0.0   \n",
              "\n",
              "   steam_purchase  received_for_free  written_during_early_access  \\\n",
              "0               0                  0                            0   \n",
              "1               0                  0                            0   \n",
              "\n",
              "   toxicity_perspective  vader_com  ...  fake_no_digits  fake_word_counts  \\\n",
              "0              0.028439     0.6369  ...             0.0               5.0   \n",
              "1              0.655660    -0.8005  ...             5.0             126.0   \n",
              "\n",
              "   fake_ratio_fp_words  fake_ratio_uppercases  fake_punc_count  \\\n",
              "0                0.000                  0.750                1   \n",
              "1                0.008                  0.024               22   \n",
              "\n",
              "   fake_short_wordcnt  fake_ratio_numsymbol  fake_extreme_polarity  cluster  \\\n",
              "0                 2.0                 0.050                      0      7.0   \n",
              "1                42.0                 0.038                      0     12.0   \n",
              "\n",
              "   is_fake  \n",
              "0      1.0  \n",
              "1      0.0  \n",
              "\n",
              "[2 rows x 22 columns]"
            ],
            "text/html": [
              "\n",
              "  <div id=\"df-9c5caa2c-10a5-45d4-ab2f-3ef28e12a58d\">\n",
              "    <div class=\"colab-df-container\">\n",
              "      <div>\n",
              "<style scoped>\n",
              "    .dataframe tbody tr th:only-of-type {\n",
              "        vertical-align: middle;\n",
              "    }\n",
              "\n",
              "    .dataframe tbody tr th {\n",
              "        vertical-align: top;\n",
              "    }\n",
              "\n",
              "    .dataframe thead th {\n",
              "        text-align: right;\n",
              "    }\n",
              "</style>\n",
              "<table border=\"1\" class=\"dataframe\">\n",
              "  <thead>\n",
              "    <tr style=\"text-align: right;\">\n",
              "      <th></th>\n",
              "      <th>voted_up</th>\n",
              "      <th>votes_up</th>\n",
              "      <th>votes_funny</th>\n",
              "      <th>weighted_vote_score</th>\n",
              "      <th>comment_count</th>\n",
              "      <th>steam_purchase</th>\n",
              "      <th>received_for_free</th>\n",
              "      <th>written_during_early_access</th>\n",
              "      <th>toxicity_perspective</th>\n",
              "      <th>vader_com</th>\n",
              "      <th>...</th>\n",
              "      <th>fake_no_digits</th>\n",
              "      <th>fake_word_counts</th>\n",
              "      <th>fake_ratio_fp_words</th>\n",
              "      <th>fake_ratio_uppercases</th>\n",
              "      <th>fake_punc_count</th>\n",
              "      <th>fake_short_wordcnt</th>\n",
              "      <th>fake_ratio_numsymbol</th>\n",
              "      <th>fake_extreme_polarity</th>\n",
              "      <th>cluster</th>\n",
              "      <th>is_fake</th>\n",
              "    </tr>\n",
              "  </thead>\n",
              "  <tbody>\n",
              "    <tr>\n",
              "      <th>0</th>\n",
              "      <td>1</td>\n",
              "      <td>5.0</td>\n",
              "      <td>0.0</td>\n",
              "      <td>0.582656</td>\n",
              "      <td>0.0</td>\n",
              "      <td>0</td>\n",
              "      <td>0</td>\n",
              "      <td>0</td>\n",
              "      <td>0.028439</td>\n",
              "      <td>0.6369</td>\n",
              "      <td>...</td>\n",
              "      <td>0.0</td>\n",
              "      <td>5.0</td>\n",
              "      <td>0.000</td>\n",
              "      <td>0.750</td>\n",
              "      <td>1</td>\n",
              "      <td>2.0</td>\n",
              "      <td>0.050</td>\n",
              "      <td>0</td>\n",
              "      <td>7.0</td>\n",
              "      <td>1.0</td>\n",
              "    </tr>\n",
              "    <tr>\n",
              "      <th>1</th>\n",
              "      <td>1</td>\n",
              "      <td>5.0</td>\n",
              "      <td>2.0</td>\n",
              "      <td>0.547834</td>\n",
              "      <td>0.0</td>\n",
              "      <td>0</td>\n",
              "      <td>0</td>\n",
              "      <td>0</td>\n",
              "      <td>0.655660</td>\n",
              "      <td>-0.8005</td>\n",
              "      <td>...</td>\n",
              "      <td>5.0</td>\n",
              "      <td>126.0</td>\n",
              "      <td>0.008</td>\n",
              "      <td>0.024</td>\n",
              "      <td>22</td>\n",
              "      <td>42.0</td>\n",
              "      <td>0.038</td>\n",
              "      <td>0</td>\n",
              "      <td>12.0</td>\n",
              "      <td>0.0</td>\n",
              "    </tr>\n",
              "  </tbody>\n",
              "</table>\n",
              "<p>2 rows × 22 columns</p>\n",
              "</div>\n",
              "      <button class=\"colab-df-convert\" onclick=\"convertToInteractive('df-9c5caa2c-10a5-45d4-ab2f-3ef28e12a58d')\"\n",
              "              title=\"Convert this dataframe to an interactive table.\"\n",
              "              style=\"display:none;\">\n",
              "        \n",
              "  <svg xmlns=\"http://www.w3.org/2000/svg\" height=\"24px\"viewBox=\"0 0 24 24\"\n",
              "       width=\"24px\">\n",
              "    <path d=\"M0 0h24v24H0V0z\" fill=\"none\"/>\n",
              "    <path d=\"M18.56 5.44l.94 2.06.94-2.06 2.06-.94-2.06-.94-.94-2.06-.94 2.06-2.06.94zm-11 1L8.5 8.5l.94-2.06 2.06-.94-2.06-.94L8.5 2.5l-.94 2.06-2.06.94zm10 10l.94 2.06.94-2.06 2.06-.94-2.06-.94-.94-2.06-.94 2.06-2.06.94z\"/><path d=\"M17.41 7.96l-1.37-1.37c-.4-.4-.92-.59-1.43-.59-.52 0-1.04.2-1.43.59L10.3 9.45l-7.72 7.72c-.78.78-.78 2.05 0 2.83L4 21.41c.39.39.9.59 1.41.59.51 0 1.02-.2 1.41-.59l7.78-7.78 2.81-2.81c.8-.78.8-2.07 0-2.86zM5.41 20L4 18.59l7.72-7.72 1.47 1.35L5.41 20z\"/>\n",
              "  </svg>\n",
              "      </button>\n",
              "      \n",
              "  <style>\n",
              "    .colab-df-container {\n",
              "      display:flex;\n",
              "      flex-wrap:wrap;\n",
              "      gap: 12px;\n",
              "    }\n",
              "\n",
              "    .colab-df-convert {\n",
              "      background-color: #E8F0FE;\n",
              "      border: none;\n",
              "      border-radius: 50%;\n",
              "      cursor: pointer;\n",
              "      display: none;\n",
              "      fill: #1967D2;\n",
              "      height: 32px;\n",
              "      padding: 0 0 0 0;\n",
              "      width: 32px;\n",
              "    }\n",
              "\n",
              "    .colab-df-convert:hover {\n",
              "      background-color: #E2EBFA;\n",
              "      box-shadow: 0px 1px 2px rgba(60, 64, 67, 0.3), 0px 1px 3px 1px rgba(60, 64, 67, 0.15);\n",
              "      fill: #174EA6;\n",
              "    }\n",
              "\n",
              "    [theme=dark] .colab-df-convert {\n",
              "      background-color: #3B4455;\n",
              "      fill: #D2E3FC;\n",
              "    }\n",
              "\n",
              "    [theme=dark] .colab-df-convert:hover {\n",
              "      background-color: #434B5C;\n",
              "      box-shadow: 0px 1px 3px 1px rgba(0, 0, 0, 0.15);\n",
              "      filter: drop-shadow(0px 1px 2px rgba(0, 0, 0, 0.3));\n",
              "      fill: #FFFFFF;\n",
              "    }\n",
              "  </style>\n",
              "\n",
              "      <script>\n",
              "        const buttonEl =\n",
              "          document.querySelector('#df-9c5caa2c-10a5-45d4-ab2f-3ef28e12a58d button.colab-df-convert');\n",
              "        buttonEl.style.display =\n",
              "          google.colab.kernel.accessAllowed ? 'block' : 'none';\n",
              "\n",
              "        async function convertToInteractive(key) {\n",
              "          const element = document.querySelector('#df-9c5caa2c-10a5-45d4-ab2f-3ef28e12a58d');\n",
              "          const dataTable =\n",
              "            await google.colab.kernel.invokeFunction('convertToInteractive',\n",
              "                                                     [key], {});\n",
              "          if (!dataTable) return;\n",
              "\n",
              "          const docLinkHtml = 'Like what you see? Visit the ' +\n",
              "            '<a target=\"_blank\" href=https://colab.research.google.com/notebooks/data_table.ipynb>data table notebook</a>'\n",
              "            + ' to learn more about interactive tables.';\n",
              "          element.innerHTML = '';\n",
              "          dataTable['output_type'] = 'display_data';\n",
              "          await google.colab.output.renderOutput(dataTable, element);\n",
              "          const docLink = document.createElement('div');\n",
              "          docLink.innerHTML = docLinkHtml;\n",
              "          element.appendChild(docLink);\n",
              "        }\n",
              "      </script>\n",
              "    </div>\n",
              "  </div>\n",
              "  "
            ]
          },
          "metadata": {},
          "execution_count": 37
        }
      ]
    },
    {
      "cell_type": "code",
      "source": [
        "# Preparation for KNN 3-- Drop NA values and confirm that our data is numeric \n",
        "df_knn=df_knn.dropna()\n",
        "df_knn = df_knn.apply(pd.to_numeric)\n",
        "type(df_knn['fake_ratio_numsymbol'][0])"
      ],
      "metadata": {
        "colab": {
          "base_uri": "https://localhost:8080/"
        },
        "id": "CdGScxDRjNf0",
        "outputId": "f333c13f-5637-4872-9ad8-3fb0971e4e20"
      },
      "execution_count": null,
      "outputs": [
        {
          "output_type": "execute_result",
          "data": {
            "text/plain": [
              "numpy.float64"
            ]
          },
          "metadata": {},
          "execution_count": 46
        }
      ]
    },
    {
      "cell_type": "code",
      "source": [
        "# Assign our independent variables and dependent variable\n",
        "X = df_knn.drop('is_fake', axis=1)\n",
        "y = df_knn['is_fake']\n",
        "# Preparation for KNN 4-- Feature scaling with standard scaler\n",
        "from sklearn.preprocessing import StandardScaler\n",
        "scaler = StandardScaler()\n",
        "scaler.fit(X)\n",
        "scaled_features = scaler.transform(X)\n",
        "\n",
        "df_feat = pd.DataFrame(scaled_features,columns=X.columns) # drop 'TARGET CLASS'\n",
        "df_feat.head()"
      ],
      "metadata": {
        "id": "tygTM4c7B1CQ",
        "colab": {
          "base_uri": "https://localhost:8080/",
          "height": 300
        },
        "outputId": "2bcbef0b-ba3d-4310-d579-ecd0e0c85425"
      },
      "execution_count": null,
      "outputs": [
        {
          "output_type": "execute_result",
          "data": {
            "text/plain": [
              "   voted_up  votes_up  votes_funny  weighted_vote_score  comment_count  \\\n",
              "0  0.445679 -0.026690    -0.109048             0.961950       -0.23843   \n",
              "1  0.445679 -0.026690     0.008569             0.122492       -0.23843   \n",
              "2  0.445679 -0.094627    -0.109048             0.175870       -0.23843   \n",
              "3 -2.243765  0.007279    -0.109048             0.045890       -0.23843   \n",
              "4  0.445679 -0.162565    -0.109048            -0.456667       -0.23843   \n",
              "\n",
              "   steam_purchase  received_for_free  written_during_early_access  \\\n",
              "0       -0.065606          -0.229416                          0.0   \n",
              "1       -0.065606          -0.229416                          0.0   \n",
              "2       -0.065606          -0.229416                          0.0   \n",
              "3       -0.065606          -0.229416                          0.0   \n",
              "4       -0.065606          -0.229416                          0.0   \n",
              "\n",
              "   toxicity_perspective  vader_com  ...  textblob_subjectivity  \\\n",
              "0             -0.695443   0.812952  ...              -0.143853   \n",
              "1              2.048638  -2.243409  ...              -0.189674   \n",
              "2             -0.120887   0.578633  ...              -0.067486   \n",
              "3              3.266975  -2.010152  ...               1.688970   \n",
              "4              0.377121  -0.866834  ...               1.139123   \n",
              "\n",
              "   fake_no_digits  fake_word_counts  fake_ratio_fp_words  \\\n",
              "0       -0.371785         -0.280755            -0.326018   \n",
              "1        1.573278          1.565083            -0.184315   \n",
              "2       -0.371785         -0.051932            -0.326018   \n",
              "3       -0.371785         -0.265500            -0.326018   \n",
              "4        1.184266         -0.143461             0.931596   \n",
              "\n",
              "   fake_ratio_uppercases  fake_punc_count  fake_short_wordcnt  \\\n",
              "0               3.113138        -0.278436           -0.262820   \n",
              "1              -0.360509         1.618232            1.275102   \n",
              "2              -0.432278        -0.097801            0.044765   \n",
              "3              -0.327016        -0.368754           -0.262820   \n",
              "4              -0.403570        -0.188118           -0.109028   \n",
              "\n",
              "   fake_ratio_numsymbol  fake_extreme_polarity   cluster  \n",
              "0              0.050997              -0.283279 -0.187420  \n",
              "1             -0.114975              -0.283279  0.647149  \n",
              "2             -0.253286              -0.283279 -1.021989  \n",
              "3             -0.640555               3.530090  1.648631  \n",
              "4              0.618070               3.530090  1.648631  \n",
              "\n",
              "[5 rows x 21 columns]"
            ],
            "text/html": [
              "\n",
              "  <div id=\"df-c90868ab-a010-461a-975f-aa3d600f469d\">\n",
              "    <div class=\"colab-df-container\">\n",
              "      <div>\n",
              "<style scoped>\n",
              "    .dataframe tbody tr th:only-of-type {\n",
              "        vertical-align: middle;\n",
              "    }\n",
              "\n",
              "    .dataframe tbody tr th {\n",
              "        vertical-align: top;\n",
              "    }\n",
              "\n",
              "    .dataframe thead th {\n",
              "        text-align: right;\n",
              "    }\n",
              "</style>\n",
              "<table border=\"1\" class=\"dataframe\">\n",
              "  <thead>\n",
              "    <tr style=\"text-align: right;\">\n",
              "      <th></th>\n",
              "      <th>voted_up</th>\n",
              "      <th>votes_up</th>\n",
              "      <th>votes_funny</th>\n",
              "      <th>weighted_vote_score</th>\n",
              "      <th>comment_count</th>\n",
              "      <th>steam_purchase</th>\n",
              "      <th>received_for_free</th>\n",
              "      <th>written_during_early_access</th>\n",
              "      <th>toxicity_perspective</th>\n",
              "      <th>vader_com</th>\n",
              "      <th>...</th>\n",
              "      <th>textblob_subjectivity</th>\n",
              "      <th>fake_no_digits</th>\n",
              "      <th>fake_word_counts</th>\n",
              "      <th>fake_ratio_fp_words</th>\n",
              "      <th>fake_ratio_uppercases</th>\n",
              "      <th>fake_punc_count</th>\n",
              "      <th>fake_short_wordcnt</th>\n",
              "      <th>fake_ratio_numsymbol</th>\n",
              "      <th>fake_extreme_polarity</th>\n",
              "      <th>cluster</th>\n",
              "    </tr>\n",
              "  </thead>\n",
              "  <tbody>\n",
              "    <tr>\n",
              "      <th>0</th>\n",
              "      <td>0.445679</td>\n",
              "      <td>-0.026690</td>\n",
              "      <td>-0.109048</td>\n",
              "      <td>0.961950</td>\n",
              "      <td>-0.23843</td>\n",
              "      <td>-0.065606</td>\n",
              "      <td>-0.229416</td>\n",
              "      <td>0.0</td>\n",
              "      <td>-0.695443</td>\n",
              "      <td>0.812952</td>\n",
              "      <td>...</td>\n",
              "      <td>-0.143853</td>\n",
              "      <td>-0.371785</td>\n",
              "      <td>-0.280755</td>\n",
              "      <td>-0.326018</td>\n",
              "      <td>3.113138</td>\n",
              "      <td>-0.278436</td>\n",
              "      <td>-0.262820</td>\n",
              "      <td>0.050997</td>\n",
              "      <td>-0.283279</td>\n",
              "      <td>-0.187420</td>\n",
              "    </tr>\n",
              "    <tr>\n",
              "      <th>1</th>\n",
              "      <td>0.445679</td>\n",
              "      <td>-0.026690</td>\n",
              "      <td>0.008569</td>\n",
              "      <td>0.122492</td>\n",
              "      <td>-0.23843</td>\n",
              "      <td>-0.065606</td>\n",
              "      <td>-0.229416</td>\n",
              "      <td>0.0</td>\n",
              "      <td>2.048638</td>\n",
              "      <td>-2.243409</td>\n",
              "      <td>...</td>\n",
              "      <td>-0.189674</td>\n",
              "      <td>1.573278</td>\n",
              "      <td>1.565083</td>\n",
              "      <td>-0.184315</td>\n",
              "      <td>-0.360509</td>\n",
              "      <td>1.618232</td>\n",
              "      <td>1.275102</td>\n",
              "      <td>-0.114975</td>\n",
              "      <td>-0.283279</td>\n",
              "      <td>0.647149</td>\n",
              "    </tr>\n",
              "    <tr>\n",
              "      <th>2</th>\n",
              "      <td>0.445679</td>\n",
              "      <td>-0.094627</td>\n",
              "      <td>-0.109048</td>\n",
              "      <td>0.175870</td>\n",
              "      <td>-0.23843</td>\n",
              "      <td>-0.065606</td>\n",
              "      <td>-0.229416</td>\n",
              "      <td>0.0</td>\n",
              "      <td>-0.120887</td>\n",
              "      <td>0.578633</td>\n",
              "      <td>...</td>\n",
              "      <td>-0.067486</td>\n",
              "      <td>-0.371785</td>\n",
              "      <td>-0.051932</td>\n",
              "      <td>-0.326018</td>\n",
              "      <td>-0.432278</td>\n",
              "      <td>-0.097801</td>\n",
              "      <td>0.044765</td>\n",
              "      <td>-0.253286</td>\n",
              "      <td>-0.283279</td>\n",
              "      <td>-1.021989</td>\n",
              "    </tr>\n",
              "    <tr>\n",
              "      <th>3</th>\n",
              "      <td>-2.243765</td>\n",
              "      <td>0.007279</td>\n",
              "      <td>-0.109048</td>\n",
              "      <td>0.045890</td>\n",
              "      <td>-0.23843</td>\n",
              "      <td>-0.065606</td>\n",
              "      <td>-0.229416</td>\n",
              "      <td>0.0</td>\n",
              "      <td>3.266975</td>\n",
              "      <td>-2.010152</td>\n",
              "      <td>...</td>\n",
              "      <td>1.688970</td>\n",
              "      <td>-0.371785</td>\n",
              "      <td>-0.265500</td>\n",
              "      <td>-0.326018</td>\n",
              "      <td>-0.327016</td>\n",
              "      <td>-0.368754</td>\n",
              "      <td>-0.262820</td>\n",
              "      <td>-0.640555</td>\n",
              "      <td>3.530090</td>\n",
              "      <td>1.648631</td>\n",
              "    </tr>\n",
              "    <tr>\n",
              "      <th>4</th>\n",
              "      <td>0.445679</td>\n",
              "      <td>-0.162565</td>\n",
              "      <td>-0.109048</td>\n",
              "      <td>-0.456667</td>\n",
              "      <td>-0.23843</td>\n",
              "      <td>-0.065606</td>\n",
              "      <td>-0.229416</td>\n",
              "      <td>0.0</td>\n",
              "      <td>0.377121</td>\n",
              "      <td>-0.866834</td>\n",
              "      <td>...</td>\n",
              "      <td>1.139123</td>\n",
              "      <td>1.184266</td>\n",
              "      <td>-0.143461</td>\n",
              "      <td>0.931596</td>\n",
              "      <td>-0.403570</td>\n",
              "      <td>-0.188118</td>\n",
              "      <td>-0.109028</td>\n",
              "      <td>0.618070</td>\n",
              "      <td>3.530090</td>\n",
              "      <td>1.648631</td>\n",
              "    </tr>\n",
              "  </tbody>\n",
              "</table>\n",
              "<p>5 rows × 21 columns</p>\n",
              "</div>\n",
              "      <button class=\"colab-df-convert\" onclick=\"convertToInteractive('df-c90868ab-a010-461a-975f-aa3d600f469d')\"\n",
              "              title=\"Convert this dataframe to an interactive table.\"\n",
              "              style=\"display:none;\">\n",
              "        \n",
              "  <svg xmlns=\"http://www.w3.org/2000/svg\" height=\"24px\"viewBox=\"0 0 24 24\"\n",
              "       width=\"24px\">\n",
              "    <path d=\"M0 0h24v24H0V0z\" fill=\"none\"/>\n",
              "    <path d=\"M18.56 5.44l.94 2.06.94-2.06 2.06-.94-2.06-.94-.94-2.06-.94 2.06-2.06.94zm-11 1L8.5 8.5l.94-2.06 2.06-.94-2.06-.94L8.5 2.5l-.94 2.06-2.06.94zm10 10l.94 2.06.94-2.06 2.06-.94-2.06-.94-.94-2.06-.94 2.06-2.06.94z\"/><path d=\"M17.41 7.96l-1.37-1.37c-.4-.4-.92-.59-1.43-.59-.52 0-1.04.2-1.43.59L10.3 9.45l-7.72 7.72c-.78.78-.78 2.05 0 2.83L4 21.41c.39.39.9.59 1.41.59.51 0 1.02-.2 1.41-.59l7.78-7.78 2.81-2.81c.8-.78.8-2.07 0-2.86zM5.41 20L4 18.59l7.72-7.72 1.47 1.35L5.41 20z\"/>\n",
              "  </svg>\n",
              "      </button>\n",
              "      \n",
              "  <style>\n",
              "    .colab-df-container {\n",
              "      display:flex;\n",
              "      flex-wrap:wrap;\n",
              "      gap: 12px;\n",
              "    }\n",
              "\n",
              "    .colab-df-convert {\n",
              "      background-color: #E8F0FE;\n",
              "      border: none;\n",
              "      border-radius: 50%;\n",
              "      cursor: pointer;\n",
              "      display: none;\n",
              "      fill: #1967D2;\n",
              "      height: 32px;\n",
              "      padding: 0 0 0 0;\n",
              "      width: 32px;\n",
              "    }\n",
              "\n",
              "    .colab-df-convert:hover {\n",
              "      background-color: #E2EBFA;\n",
              "      box-shadow: 0px 1px 2px rgba(60, 64, 67, 0.3), 0px 1px 3px 1px rgba(60, 64, 67, 0.15);\n",
              "      fill: #174EA6;\n",
              "    }\n",
              "\n",
              "    [theme=dark] .colab-df-convert {\n",
              "      background-color: #3B4455;\n",
              "      fill: #D2E3FC;\n",
              "    }\n",
              "\n",
              "    [theme=dark] .colab-df-convert:hover {\n",
              "      background-color: #434B5C;\n",
              "      box-shadow: 0px 1px 3px 1px rgba(0, 0, 0, 0.15);\n",
              "      filter: drop-shadow(0px 1px 2px rgba(0, 0, 0, 0.3));\n",
              "      fill: #FFFFFF;\n",
              "    }\n",
              "  </style>\n",
              "\n",
              "      <script>\n",
              "        const buttonEl =\n",
              "          document.querySelector('#df-c90868ab-a010-461a-975f-aa3d600f469d button.colab-df-convert');\n",
              "        buttonEl.style.display =\n",
              "          google.colab.kernel.accessAllowed ? 'block' : 'none';\n",
              "\n",
              "        async function convertToInteractive(key) {\n",
              "          const element = document.querySelector('#df-c90868ab-a010-461a-975f-aa3d600f469d');\n",
              "          const dataTable =\n",
              "            await google.colab.kernel.invokeFunction('convertToInteractive',\n",
              "                                                     [key], {});\n",
              "          if (!dataTable) return;\n",
              "\n",
              "          const docLinkHtml = 'Like what you see? Visit the ' +\n",
              "            '<a target=\"_blank\" href=https://colab.research.google.com/notebooks/data_table.ipynb>data table notebook</a>'\n",
              "            + ' to learn more about interactive tables.';\n",
              "          element.innerHTML = '';\n",
              "          dataTable['output_type'] = 'display_data';\n",
              "          await google.colab.output.renderOutput(dataTable, element);\n",
              "          const docLink = document.createElement('div');\n",
              "          docLink.innerHTML = docLinkHtml;\n",
              "          element.appendChild(docLink);\n",
              "        }\n",
              "      </script>\n",
              "    </div>\n",
              "  </div>\n",
              "  "
            ]
          },
          "metadata": {},
          "execution_count": 47
        }
      ]
    },
    {
      "cell_type": "code",
      "source": [
        "# First attemp-- Apply KNN model with default setting(n_neighbors = 5)\n",
        "from sklearn.model_selection import train_test_split\n",
        "from sklearn.neighbors import KNeighborsClassifier\n",
        "from sklearn.metrics import classification_report, confusion_matrix\n",
        "\n",
        "X_train, X_test, y_train, y_test = train_test_split(df_feat,y, test_size=0.30, random_state= 101)\n",
        "knn = KNeighborsClassifier()\n",
        "knn.fit(X_train,y_train)\n",
        "pred = knn.predict(X_test)\n",
        "print(classification_report(y_test,pred))\n",
        "# Model accuracy= 71% "
      ],
      "metadata": {
        "colab": {
          "base_uri": "https://localhost:8080/"
        },
        "id": "fcaPLBuOhg75",
        "outputId": "958f2d6c-178c-4f47-f7de-557d7e0ffe89"
      },
      "execution_count": null,
      "outputs": [
        {
          "output_type": "stream",
          "name": "stdout",
          "text": [
            "              precision    recall  f1-score   support\n",
            "\n",
            "         0.0       0.77      0.72      0.74       124\n",
            "         1.0       0.63      0.70      0.66        86\n",
            "\n",
            "    accuracy                           0.71       210\n",
            "   macro avg       0.70      0.71      0.70       210\n",
            "weighted avg       0.72      0.71      0.71       210\n",
            "\n"
          ]
        }
      ]
    },
    {
      "cell_type": "code",
      "source": [
        "# Tune K values by checking error rate in the case from k=1 to k=40.\n",
        "error_rate = []\n",
        "\n",
        "for i in range(1,40):\n",
        "    knn = KNeighborsClassifier(n_neighbors=i)\n",
        "    knn.fit(X_train,y_train)\n",
        "    pred_i = knn.predict(X_test)\n",
        "    error_rate.append(np.mean(pred_i != y_test))\n",
        "\n",
        "# plot the error rate\n",
        "plt.figure(figsize=(10,6))\n",
        "plt.plot(range(1,40),error_rate,color='orange', linestyle='dashed', marker='o',\n",
        "         markerfacecolor='yellow', markersize=10)\n",
        "plt.title('Error Rate vs. K Value')\n",
        "plt.xlabel('K')\n",
        "plt.ylabel('Error Rate')"
      ],
      "metadata": {
        "colab": {
          "base_uri": "https://localhost:8080/",
          "height": 422
        },
        "id": "8pvm_-1qmMKt",
        "outputId": "ffa538f4-da73-41da-bd56-5f546b157351"
      },
      "execution_count": null,
      "outputs": [
        {
          "output_type": "execute_result",
          "data": {
            "text/plain": [
              "Text(0, 0.5, 'Error Rate')"
            ]
          },
          "metadata": {},
          "execution_count": 50
        },
        {
          "output_type": "display_data",
          "data": {
            "text/plain": [
              "<Figure size 720x432 with 1 Axes>"
            ],
            "image/png": "[encoded data removed]"
          },
          "metadata": {
            "needs_background": "light"
          }
        }
      ]
    },
    {
      "cell_type": "code",
      "source": [
        "# There's a significant drop of error rate when k=10, so we decide to go with 10 neighbors.\n",
        "knn = KNeighborsClassifier(n_neighbors=10)\n",
        "\n",
        "knn.fit(X_train,y_train)\n",
        "pred = knn.predict(X_test)\n",
        "\n",
        "print(classification_report(y_test,pred))\n",
        "# Our final model accuracy is arounf 74% "
      ],
      "metadata": {
        "colab": {
          "base_uri": "https://localhost:8080/"
        },
        "id": "Qg3Ry3m3hg_P",
        "outputId": "934cff82-775a-4438-a50f-2f94877ff859"
      },
      "execution_count": null,
      "outputs": [
        {
          "output_type": "stream",
          "name": "stdout",
          "text": [
            "              precision    recall  f1-score   support\n",
            "\n",
            "         0.0       0.76      0.81      0.78       124\n",
            "         1.0       0.70      0.64      0.67        86\n",
            "\n",
            "    accuracy                           0.74       210\n",
            "   macro avg       0.73      0.72      0.73       210\n",
            "weighted avg       0.74      0.74      0.74       210\n",
            "\n"
          ]
        }
      ]
    },
    {
      "cell_type": "code",
      "source": [
        "# Make prediction with updated model of the rest of (un-labeled)dataset \n",
        "df_2 = pd.read_csv('/content/gdrive/MyDrive/IMT547/LABELED_dota2_10k_toxcity_sentiment_fake_cluster - LABELED_dota2_10k_toxcity_sentiment_fake_cluster - LABELED_dota2_10k_toxcity_sentiment_fake_cluster - LABELED_dota2_10k_toxcity_sentiment_fake_cluster.csv')\n",
        "del df_2['note']\n",
        "# The same process: feature selection, apply label encoder, feature scaling, assigning X&Y\n",
        "df_knn_unlabeled = df_2.drop(columns=['recommendationid', 'author', 'language', 'review', 'timestamp_created', 'timestamp_updated', 'time_created',\n",
        "                             'clean_review', 'vader','vader_compound','fake_no_digits %','fake_punc_count %','fake_short_wordcnt %'])\n",
        "le = LabelEncoder()\n",
        "df_knn_unlabeled['voted_up'] = le.fit_transform(df_knn_unlabeled['voted_up'])\n",
        "df_knn_unlabeled['received_for_free'] = le.fit_transform(df_knn_unlabeled['received_for_free'])\n",
        "df_knn_unlabeled['written_during_early_access'] = le.fit_transform(df_knn_unlabeled['written_during_early_access'])\n",
        "df_knn_unlabeled['fake_extreme_polarity'] = le.fit_transform(df_knn_unlabeled['fake_extreme_polarity'])\n",
        "df_knn_unlabeled['steam_purchase'] = le.fit_transform(df_knn_unlabeled['steam_purchase'])\n",
        "df_knn_unlabeled = df_knn_unlabeled[df_knn_unlabeled['is_fake'].isnull()]\n",
        "df_knn_unlabeled.head(2)\n",
        "df_knn_unlabeled=df_knn_unlabeled.dropna(subset=['votes_up','votes_funny','weighted_vote_score','comment_count','toxicity_perspective',\n",
        "                      'vader_com','textblob_polarity','textblob_subjectivity' ,'fake_no_digits','fake_word_counts',\n",
        "                      'fake_ratio_fp_words','fake_ratio_uppercases','fake_short_wordcnt','fake_ratio_numsymbol','fake_extreme_polarity'\n",
        "                      ,'cluster'])\n",
        "X = df_knn_unlabeled.drop('is_fake', axis=1)\n",
        "\n",
        "scaler = StandardScaler()\n",
        "scaler.fit(X)\n",
        "scaled_features = scaler.transform(X)\n",
        "\n",
        "df_feat_unlabeled = pd.DataFrame(scaled_features,columns=X.columns) # drop 'TARGET CLASS'\n",
        "pred_unlabeled = knn.predict(df_feat_unlabeled)\n",
        "df_knn_unlabeled['is_fake'] = pred_unlabeled  # Make prediction\n",
        "\n",
        "# First 700 low of data remains our hand labels.  \n",
        "first_half = df_2.dropna()\n",
        "# For the rest of unlabeled data, we attach the prediction result. \n",
        "second_half = df_2.iloc[700:, :]\n",
        "second_half = second_half.dropna(subset=['votes_up','votes_funny','weighted_vote_score','comment_count','toxicity_perspective',\n",
        "                      'vader_com','textblob_polarity','textblob_subjectivity' ,'fake_no_digits','fake_word_counts',\n",
        "                      'fake_ratio_fp_words','fake_ratio_uppercases','fake_short_wordcnt','fake_ratio_numsymbol','fake_extreme_polarity'\n",
        "                      ,'cluster'])\n",
        "second_half['is_fake'] = pred_unlabeled"
      ],
      "metadata": {
        "id": "7NkzGyANhhJB"
      },
      "execution_count": null,
      "outputs": []
    },
    {
      "cell_type": "code",
      "source": [
        "# This is the final dataframe with fake-review detection result by combining hand-labing dataframe and model-predicted dataframe.\n",
        "final_pred = pd.concat([first_half, second_half])\n",
        "final_pred.tail(2)"
      ],
      "metadata": {
        "colab": {
          "base_uri": "https://localhost:8080/",
          "height": 344
        },
        "id": "INQjvKxCunMB",
        "outputId": "c23d928b-b5f0-4ee7-fa13-58efe1812071"
      },
      "execution_count": null,
      "outputs": [
        {
          "output_type": "execute_result",
          "data": {
            "text/plain": [
              "      recommendationid                                             author  \\\n",
              "9457       104740070.0  {'steamid': '76561198081657223', 'num_games_ow...   \n",
              "9458        48620780.0  {'steamid': '76561198425458569', 'num_games_ow...   \n",
              "\n",
              "     language                                review  timestamp_created  \\\n",
              "9457  english  you wasting your time playing Dota 2       1.638212e+09   \n",
              "9458  english                          amazing game       1.548736e+09   \n",
              "\n",
              "      timestamp_updated voted_up  votes_up  votes_funny  weighted_vote_score  \\\n",
              "9457       1.638212e+09    False       2.0          0.0             0.532943   \n",
              "9458       1.548736e+09     True       1.0          0.0             0.523810   \n",
              "\n",
              "      ...  fake_ratio_fp_words fake_ratio_uppercases fake_punc_count  \\\n",
              "9457  ...                  0.0                 0.028               0   \n",
              "9458  ...                  0.0                 0.000               0   \n",
              "\n",
              "     fake_punc_count % fake_short_wordcnt fake_short_wordcnt %  \\\n",
              "9457               0.0                2.0               0.2857   \n",
              "9458               0.0                0.0               0.0000   \n",
              "\n",
              "      fake_ratio_numsymbol fake_extreme_polarity cluster  is_fake  \n",
              "9457                 0.028                 False     2.0      0.0  \n",
              "9458                 0.000                 False     2.0      1.0  \n",
              "\n",
              "[2 rows x 35 columns]"
            ],
            "text/html": [
              "\n",
              "  <div id=\"df-e3637efc-c81a-43be-95f0-458d95a70e75\">\n",
              "    <div class=\"colab-df-container\">\n",
              "      <div>\n",
              "<style scoped>\n",
              "    .dataframe tbody tr th:only-of-type {\n",
              "        vertical-align: middle;\n",
              "    }\n",
              "\n",
              "    .dataframe tbody tr th {\n",
              "        vertical-align: top;\n",
              "    }\n",
              "\n",
              "    .dataframe thead th {\n",
              "        text-align: right;\n",
              "    }\n",
              "</style>\n",
              "<table border=\"1\" class=\"dataframe\">\n",
              "  <thead>\n",
              "    <tr style=\"text-align: right;\">\n",
              "      <th></th>\n",
              "      <th>recommendationid</th>\n",
              "      <th>author</th>\n",
              "      <th>language</th>\n",
              "      <th>review</th>\n",
              "      <th>timestamp_created</th>\n",
              "      <th>timestamp_updated</th>\n",
              "      <th>voted_up</th>\n",
              "      <th>votes_up</th>\n",
              "      <th>votes_funny</th>\n",
              "      <th>weighted_vote_score</th>\n",
              "      <th>...</th>\n",
              "      <th>fake_ratio_fp_words</th>\n",
              "      <th>fake_ratio_uppercases</th>\n",
              "      <th>fake_punc_count</th>\n",
              "      <th>fake_punc_count %</th>\n",
              "      <th>fake_short_wordcnt</th>\n",
              "      <th>fake_short_wordcnt %</th>\n",
              "      <th>fake_ratio_numsymbol</th>\n",
              "      <th>fake_extreme_polarity</th>\n",
              "      <th>cluster</th>\n",
              "      <th>is_fake</th>\n",
              "    </tr>\n",
              "  </thead>\n",
              "  <tbody>\n",
              "    <tr>\n",
              "      <th>9457</th>\n",
              "      <td>104740070.0</td>\n",
              "      <td>{'steamid': '76561198081657223', 'num_games_ow...</td>\n",
              "      <td>english</td>\n",
              "      <td>you wasting your time playing Dota 2</td>\n",
              "      <td>1.638212e+09</td>\n",
              "      <td>1.638212e+09</td>\n",
              "      <td>False</td>\n",
              "      <td>2.0</td>\n",
              "      <td>0.0</td>\n",
              "      <td>0.532943</td>\n",
              "      <td>...</td>\n",
              "      <td>0.0</td>\n",
              "      <td>0.028</td>\n",
              "      <td>0</td>\n",
              "      <td>0.0</td>\n",
              "      <td>2.0</td>\n",
              "      <td>0.2857</td>\n",
              "      <td>0.028</td>\n",
              "      <td>False</td>\n",
              "      <td>2.0</td>\n",
              "      <td>0.0</td>\n",
              "    </tr>\n",
              "    <tr>\n",
              "      <th>9458</th>\n",
              "      <td>48620780.0</td>\n",
              "      <td>{'steamid': '76561198425458569', 'num_games_ow...</td>\n",
              "      <td>english</td>\n",
              "      <td>amazing game</td>\n",
              "      <td>1.548736e+09</td>\n",
              "      <td>1.548736e+09</td>\n",
              "      <td>True</td>\n",
              "      <td>1.0</td>\n",
              "      <td>0.0</td>\n",
              "      <td>0.523810</td>\n",
              "      <td>...</td>\n",
              "      <td>0.0</td>\n",
              "      <td>0.000</td>\n",
              "      <td>0</td>\n",
              "      <td>0.0</td>\n",
              "      <td>0.0</td>\n",
              "      <td>0.0000</td>\n",
              "      <td>0.000</td>\n",
              "      <td>False</td>\n",
              "      <td>2.0</td>\n",
              "      <td>1.0</td>\n",
              "    </tr>\n",
              "  </tbody>\n",
              "</table>\n",
              "<p>2 rows × 35 columns</p>\n",
              "</div>\n",
              "      <button class=\"colab-df-convert\" onclick=\"convertToInteractive('df-e3637efc-c81a-43be-95f0-458d95a70e75')\"\n",
              "              title=\"Convert this dataframe to an interactive table.\"\n",
              "              style=\"display:none;\">\n",
              "        \n",
              "  <svg xmlns=\"http://www.w3.org/2000/svg\" height=\"24px\"viewBox=\"0 0 24 24\"\n",
              "       width=\"24px\">\n",
              "    <path d=\"M0 0h24v24H0V0z\" fill=\"none\"/>\n",
              "    <path d=\"M18.56 5.44l.94 2.06.94-2.06 2.06-.94-2.06-.94-.94-2.06-.94 2.06-2.06.94zm-11 1L8.5 8.5l.94-2.06 2.06-.94-2.06-.94L8.5 2.5l-.94 2.06-2.06.94zm10 10l.94 2.06.94-2.06 2.06-.94-2.06-.94-.94-2.06-.94 2.06-2.06.94z\"/><path d=\"M17.41 7.96l-1.37-1.37c-.4-.4-.92-.59-1.43-.59-.52 0-1.04.2-1.43.59L10.3 9.45l-7.72 7.72c-.78.78-.78 2.05 0 2.83L4 21.41c.39.39.9.59 1.41.59.51 0 1.02-.2 1.41-.59l7.78-7.78 2.81-2.81c.8-.78.8-2.07 0-2.86zM5.41 20L4 18.59l7.72-7.72 1.47 1.35L5.41 20z\"/>\n",
              "  </svg>\n",
              "      </button>\n",
              "      \n",
              "  <style>\n",
              "    .colab-df-container {\n",
              "      display:flex;\n",
              "      flex-wrap:wrap;\n",
              "      gap: 12px;\n",
              "    }\n",
              "\n",
              "    .colab-df-convert {\n",
              "      background-color: #E8F0FE;\n",
              "      border: none;\n",
              "      border-radius: 50%;\n",
              "      cursor: pointer;\n",
              "      display: none;\n",
              "      fill: #1967D2;\n",
              "      height: 32px;\n",
              "      padding: 0 0 0 0;\n",
              "      width: 32px;\n",
              "    }\n",
              "\n",
              "    .colab-df-convert:hover {\n",
              "      background-color: #E2EBFA;\n",
              "      box-shadow: 0px 1px 2px rgba(60, 64, 67, 0.3), 0px 1px 3px 1px rgba(60, 64, 67, 0.15);\n",
              "      fill: #174EA6;\n",
              "    }\n",
              "\n",
              "    [theme=dark] .colab-df-convert {\n",
              "      background-color: #3B4455;\n",
              "      fill: #D2E3FC;\n",
              "    }\n",
              "\n",
              "    [theme=dark] .colab-df-convert:hover {\n",
              "      background-color: #434B5C;\n",
              "      box-shadow: 0px 1px 3px 1px rgba(0, 0, 0, 0.15);\n",
              "      filter: drop-shadow(0px 1px 2px rgba(0, 0, 0, 0.3));\n",
              "      fill: #FFFFFF;\n",
              "    }\n",
              "  </style>\n",
              "\n",
              "      <script>\n",
              "        const buttonEl =\n",
              "          document.querySelector('#df-e3637efc-c81a-43be-95f0-458d95a70e75 button.colab-df-convert');\n",
              "        buttonEl.style.display =\n",
              "          google.colab.kernel.accessAllowed ? 'block' : 'none';\n",
              "\n",
              "        async function convertToInteractive(key) {\n",
              "          const element = document.querySelector('#df-e3637efc-c81a-43be-95f0-458d95a70e75');\n",
              "          const dataTable =\n",
              "            await google.colab.kernel.invokeFunction('convertToInteractive',\n",
              "                                                     [key], {});\n",
              "          if (!dataTable) return;\n",
              "\n",
              "          const docLinkHtml = 'Like what you see? Visit the ' +\n",
              "            '<a target=\"_blank\" href=https://colab.research.google.com/notebooks/data_table.ipynb>data table notebook</a>'\n",
              "            + ' to learn more about interactive tables.';\n",
              "          element.innerHTML = '';\n",
              "          dataTable['output_type'] = 'display_data';\n",
              "          await google.colab.output.renderOutput(dataTable, element);\n",
              "          const docLink = document.createElement('div');\n",
              "          docLink.innerHTML = docLinkHtml;\n",
              "          element.appendChild(docLink);\n",
              "        }\n",
              "      </script>\n",
              "    </div>\n",
              "  </div>\n",
              "  "
            ]
          },
          "metadata": {},
          "execution_count": 91
        }
      ]
    },
    {
      "cell_type": "markdown",
      "source": [
        "### Part III. Linguistic patterns based on model prediction\n"
      ],
      "metadata": {
        "id": "weUMAQc0xu3H"
      }
    },
    {
      "cell_type": "code",
      "source": [
        "fake_pred = pd.read_csv('/content/gdrive/MyDrive/IMT547/final_prediction.csv')\n",
        "df_fakegroup = fake_pred.groupby('is_fake').agg('mean')"
      ],
      "metadata": {
        "id": "vEbscEipx7PA"
      },
      "execution_count": null,
      "outputs": []
    },
    {
      "cell_type": "markdown",
      "source": [
        "**Length & Ratio of Upper-case Letters**"
      ],
      "metadata": {
        "id": "5F23tAqVIckn"
      }
    },
    {
      "cell_type": "code",
      "source": [
        "# Length \n",
        "ax = df_fakegroup.plot.bar(y='fake_word_counts', subplots=True,rot=0,figsize=(8, 4),color=['b', 'orange'],\n",
        "                           title = 'Average Length of Reviews',legend = None)\n",
        "# Ratio of uppercase letters\n",
        "ax = df_fakegroup.plot.bar(y='fake_ratio_uppercases',subplots=True, rot=0,figsize=(8, 4),color=['b', 'orange'],\n",
        "                           title = 'Average Percentage of Upper-case Letters',legend = None)"
      ],
      "metadata": {
        "colab": {
          "base_uri": "https://localhost:8080/",
          "height": 611
        },
        "id": "Hxz-oLwrAMVm",
        "outputId": "4a62bbde-3abd-48fa-9c92-a6ee4caa1be9"
      },
      "execution_count": null,
      "outputs": [
        {
          "output_type": "display_data",
          "data": {
            "text/plain": [
              "<Figure size 576x288 with 1 Axes>"
            ],
            "image/png": "[encoded data removed]"
          },
          "metadata": {}
        },
        {
          "output_type": "display_data",
          "data": {
            "text/plain": [
              "<Figure size 576x288 with 1 Axes>"
            ],
            "image/png": "[encoded data removed]"
          },
          "metadata": {}
        }
      ]
    },
    {
      "cell_type": "markdown",
      "source": [
        "**Inference**\n",
        "\n",
        "- Fake reviews have shorter length.\n",
        "- The ratio of upper-case letters of fake reviews is higher. "
      ],
      "metadata": {
        "id": "bmOOUw-7KxxL"
      }
    },
    {
      "cell_type": "code",
      "source": [
        "# Toxicity\n",
        "ax = df_fakegroup.plot.bar(y='toxicity_perspective',subplots=True, rot=0,figsize=(8, 4),color=['b', 'orange'],\n",
        "                           title = 'Toxicity Level',legend = None)\n",
        "# Sentiment polarity\n",
        "ax = df_fakegroup.plot.bar(y='vader_com',subplots=True, rot=0,figsize=(8, 4),color=['b', 'orange'],\n",
        "                           title = 'Vader Sentiment Score',legend = None)"
      ],
      "metadata": {
        "colab": {
          "base_uri": "https://localhost:8080/",
          "height": 611
        },
        "id": "YxKVEDfdIGCE",
        "outputId": "2084ef1a-865d-45c1-edb9-495048b2fda2"
      },
      "execution_count": null,
      "outputs": [
        {
          "output_type": "display_data",
          "data": {
            "text/plain": [
              "<Figure size 576x288 with 1 Axes>"
            ],
            "image/png": "[encoded data removed]"
          },
          "metadata": {}
        },
        {
          "output_type": "display_data",
          "data": {
            "text/plain": [
              "<Figure size 576x288 with 1 Axes>"
            ],
            "image/png": "[encoded data removed]"
          },
          "metadata": {}
        }
      ]
    },
    {
      "cell_type": "markdown",
      "source": [
        "**Inference**\n",
        "\n",
        "- Non-fake reviews are more toxic since real users may be more \"hate\" or aggressive opinions of the game.\n",
        "- For similar reasons, fake reviews have more positive sentiemnts."
      ],
      "metadata": {
        "id": "R-SSP8zALFC9"
      }
    },
    {
      "cell_type": "markdown",
      "source": [
        "### Ethical Consideratioin \n",
        "\n",
        "- Our first ethical consideration is that we only retrieved game reviews in English in order to visually justify our findings and label the reviews for classification and predictions. However, Dota2 is a popular game globally. Our data collection, in this case, may be less representative and can lead to biases in the sentiment analysis, predictive modeling, and spam classification sections. \n",
        "- Secondly, the user name and the review is available without encryption, so if the user accidentally leaked his user game, his comment and attitudes toward other gamers may be revealed through our data. \n",
        "\n",
        "### Limitation\n",
        "- Our first limitation is we did not use all the data we scrapped due to constraints on computational resources. \n",
        "- The second limitation is we only gathered English reviews because English is best supported by other NLP packages.\n",
        "\n",
        "### Future Work\n",
        "- If we had more time, we would collect reviews from users that are not just limited to English-speaking users. By enlarging our text corpus and text diversity, we can obtain hate speech with more topics around. The comments will not be only targeting one group.\n",
        "- If we had more time, we would compare more games in different categories.\n"
      ],
      "metadata": {
        "id": "msFewbOQ4uPJ"
      }
    },
    {
      "cell_type": "markdown",
      "source": [
        "# Reference:\n",
        "- Davis, N. (n.d.). Gathering data from the Steam Store API using Python. Gathering Data from the Steam Store API using Python | Nik Davis. Retrieved April 28, 2022, from https://nik-davis.github.io/posts/2019/steam-data-collection/ \n",
        "- Fox, J., Gilbert, M., & Tang, W. Y. (2018). Player experiences in a massively multiplayer online game: A diary study of performance, motivation, and social interaction. New Media & Society, 20(11), 4056-4073.\n",
        "- Gandolfi, E., & Ferdig, R. E. (2021). Sharing dark sides on game service platforms: Disruptive behaviors and toxicity in DOTA2 through a platform lens. Convergence, 13548565211028809.\n",
        "- Kang, H. N., Yong, H. R., & Hwang, H. S. (2017). A study of analyzing on online game reviews using a data mining approach: Steam community data. International Journal of Innovation, Management and Technology, 8(2), 90.\n",
        "- Lin, D., Bezemer, C. P., Zou, Y., & Hassan, A. E. (2019). An empirical study of game reviews on the Steam platform. Empirical Software Engineering, 24(1), 170-207.\n",
        "- Paul, C. A. (2018). The toxic meritocracy of video games: Why gaming culture is the worst. U of Minnesota Press.\n",
        "- P. Bian, L. Liu, & P. Sweetser. (2021) Detecting Spam Game Reviews on Steam with a Semi-Supervised Approach. Retrieved May 10, 2022, from  \n",
        "https://openresearch-repository.anu.edu.au/bitstream/1885/230776/1/FDG2021-Reviews.pdf\n",
        "\n"
      ],
      "metadata": {
        "id": "DOl9e47yiP8I"
      }
    }
  ]
}